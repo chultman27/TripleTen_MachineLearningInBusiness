{
 "cells": [
  {
   "cell_type": "markdown",
   "metadata": {},
   "source": [
    "## Introduction\n",
    "\n",
    "This project aims to look at oil well data from the OilyGiant company from three different regions and use this to decide the best place to build a new well. This will be done by:\n",
    "\n",
    "1) Collecting the oil well parameters in the selected region\n",
    "2) Building a model for predicting the volume of reserves in the new wells\n",
    "3) Picking the oil wells with the highest estimated values\n",
    "4) Picking the region with the highest total profit for the selected oil wells."
   ]
  },
  {
   "cell_type": "markdown",
   "metadata": {},
   "source": [
    "## Data Cleaning/ Preparation"
   ]
  },
  {
   "cell_type": "code",
   "execution_count": 1,
   "metadata": {
    "trusted": true
   },
   "outputs": [],
   "source": [
    "#import libraries\n",
    "import pandas as pd\n",
    "from sklearn.model_selection import train_test_split\n",
    "import numpy as np\n",
    "from sklearn.linear_model import LinearRegression\n",
    "from sklearn.metrics import mean_squared_error\n",
    "from sklearn.preprocessing import StandardScaler\n",
    "import matplotlib.pyplot as plt\n",
    "import seaborn as sns\n",
    "from sklearn.model_selection import cross_val_score\n",
    "from sklearn.utils import resample"
   ]
  },
  {
   "cell_type": "code",
   "execution_count": 2,
   "metadata": {
    "trusted": true
   },
   "outputs": [],
   "source": [
    "#import data sets for each region\n",
    "geo_0 = pd.read_csv('/datasets/geo_data_0.csv')\n",
    "geo_1 = pd.read_csv('/datasets/geo_data_1.csv')\n",
    "geo_2 = pd.read_csv('/datasets/geo_data_2.csv')"
   ]
  },
  {
   "cell_type": "markdown",
   "metadata": {},
   "source": [
    "In order to prepare this data for analysis, certain changes must be made to each data set. Firstly, the data set will be checked for duplicate rows. Then, the ID column will be dropped, as the id of the well does not play a role in determining the volume of reserves in the well. The data will be searched for missing and lastly divided into feature and target sets. A boxplot will also be made for each data set to look for potential target outliers that could impact model behavior. "
   ]
  },
  {
   "cell_type": "markdown",
   "metadata": {},
   "source": [
    "## a) Geo 0"
   ]
  },
  {
   "cell_type": "code",
   "execution_count": 3,
   "metadata": {
    "trusted": true
   },
   "outputs": [
    {
     "name": "stdout",
     "output_type": "stream",
     "text": [
      "<class 'pandas.core.frame.DataFrame'>\n",
      "RangeIndex: 100000 entries, 0 to 99999\n",
      "Data columns (total 5 columns):\n",
      " #   Column   Non-Null Count   Dtype  \n",
      "---  ------   --------------   -----  \n",
      " 0   id       100000 non-null  object \n",
      " 1   f0       100000 non-null  float64\n",
      " 2   f1       100000 non-null  float64\n",
      " 3   f2       100000 non-null  float64\n",
      " 4   product  100000 non-null  float64\n",
      "dtypes: float64(4), object(1)\n",
      "memory usage: 3.8+ MB\n"
     ]
    },
    {
     "data": {
      "text/plain": [
       "None"
      ]
     },
     "metadata": {},
     "output_type": "display_data"
    },
    {
     "data": {
      "text/html": [
       "<div>\n",
       "<style scoped>\n",
       "    .dataframe tbody tr th:only-of-type {\n",
       "        vertical-align: middle;\n",
       "    }\n",
       "\n",
       "    .dataframe tbody tr th {\n",
       "        vertical-align: top;\n",
       "    }\n",
       "\n",
       "    .dataframe thead th {\n",
       "        text-align: right;\n",
       "    }\n",
       "</style>\n",
       "<table border=\"1\" class=\"dataframe\">\n",
       "  <thead>\n",
       "    <tr style=\"text-align: right;\">\n",
       "      <th></th>\n",
       "      <th>id</th>\n",
       "      <th>f0</th>\n",
       "      <th>f1</th>\n",
       "      <th>f2</th>\n",
       "      <th>product</th>\n",
       "    </tr>\n",
       "  </thead>\n",
       "  <tbody>\n",
       "    <tr>\n",
       "      <th>0</th>\n",
       "      <td>txEyH</td>\n",
       "      <td>0.705745</td>\n",
       "      <td>-0.497823</td>\n",
       "      <td>1.221170</td>\n",
       "      <td>105.280062</td>\n",
       "    </tr>\n",
       "    <tr>\n",
       "      <th>1</th>\n",
       "      <td>2acmU</td>\n",
       "      <td>1.334711</td>\n",
       "      <td>-0.340164</td>\n",
       "      <td>4.365080</td>\n",
       "      <td>73.037750</td>\n",
       "    </tr>\n",
       "    <tr>\n",
       "      <th>2</th>\n",
       "      <td>409Wp</td>\n",
       "      <td>1.022732</td>\n",
       "      <td>0.151990</td>\n",
       "      <td>1.419926</td>\n",
       "      <td>85.265647</td>\n",
       "    </tr>\n",
       "    <tr>\n",
       "      <th>3</th>\n",
       "      <td>iJLyR</td>\n",
       "      <td>-0.032172</td>\n",
       "      <td>0.139033</td>\n",
       "      <td>2.978566</td>\n",
       "      <td>168.620776</td>\n",
       "    </tr>\n",
       "    <tr>\n",
       "      <th>4</th>\n",
       "      <td>Xdl7t</td>\n",
       "      <td>1.988431</td>\n",
       "      <td>0.155413</td>\n",
       "      <td>4.751769</td>\n",
       "      <td>154.036647</td>\n",
       "    </tr>\n",
       "    <tr>\n",
       "      <th>5</th>\n",
       "      <td>wX4Hy</td>\n",
       "      <td>0.969570</td>\n",
       "      <td>0.489775</td>\n",
       "      <td>-0.735383</td>\n",
       "      <td>64.741541</td>\n",
       "    </tr>\n",
       "    <tr>\n",
       "      <th>6</th>\n",
       "      <td>tL6pL</td>\n",
       "      <td>0.645075</td>\n",
       "      <td>0.530656</td>\n",
       "      <td>1.780266</td>\n",
       "      <td>49.055285</td>\n",
       "    </tr>\n",
       "    <tr>\n",
       "      <th>7</th>\n",
       "      <td>BYPU6</td>\n",
       "      <td>-0.400648</td>\n",
       "      <td>0.808337</td>\n",
       "      <td>-5.624670</td>\n",
       "      <td>72.943292</td>\n",
       "    </tr>\n",
       "    <tr>\n",
       "      <th>8</th>\n",
       "      <td>j9Oui</td>\n",
       "      <td>0.643105</td>\n",
       "      <td>-0.551583</td>\n",
       "      <td>2.372141</td>\n",
       "      <td>113.356160</td>\n",
       "    </tr>\n",
       "    <tr>\n",
       "      <th>9</th>\n",
       "      <td>OLuZU</td>\n",
       "      <td>2.173381</td>\n",
       "      <td>0.563698</td>\n",
       "      <td>9.441852</td>\n",
       "      <td>127.910945</td>\n",
       "    </tr>\n",
       "  </tbody>\n",
       "</table>\n",
       "</div>"
      ],
      "text/plain": [
       "      id        f0        f1        f2     product\n",
       "0  txEyH  0.705745 -0.497823  1.221170  105.280062\n",
       "1  2acmU  1.334711 -0.340164  4.365080   73.037750\n",
       "2  409Wp  1.022732  0.151990  1.419926   85.265647\n",
       "3  iJLyR -0.032172  0.139033  2.978566  168.620776\n",
       "4  Xdl7t  1.988431  0.155413  4.751769  154.036647\n",
       "5  wX4Hy  0.969570  0.489775 -0.735383   64.741541\n",
       "6  tL6pL  0.645075  0.530656  1.780266   49.055285\n",
       "7  BYPU6 -0.400648  0.808337 -5.624670   72.943292\n",
       "8  j9Oui  0.643105 -0.551583  2.372141  113.356160\n",
       "9  OLuZU  2.173381  0.563698  9.441852  127.910945"
      ]
     },
     "metadata": {},
     "output_type": "display_data"
    },
    {
     "name": "stdout",
     "output_type": "stream",
     "text": [
      "The number of duplicated rows in this data frame is 0\n",
      "\n",
      "<class 'pandas.core.frame.DataFrame'>\n",
      "RangeIndex: 100000 entries, 0 to 99999\n",
      "Data columns (total 4 columns):\n",
      " #   Column   Non-Null Count   Dtype  \n",
      "---  ------   --------------   -----  \n",
      " 0   f0       100000 non-null  float64\n",
      " 1   f1       100000 non-null  float64\n",
      " 2   f2       100000 non-null  float64\n",
      " 3   product  100000 non-null  float64\n",
      "dtypes: float64(4)\n",
      "memory usage: 3.1 MB\n"
     ]
    },
    {
     "data": {
      "text/plain": [
       "None"
      ]
     },
     "metadata": {},
     "output_type": "display_data"
    },
    {
     "name": "stdout",
     "output_type": "stream",
     "text": [
      "There are no missing values in this data frame.\n"
     ]
    }
   ],
   "source": [
    "#geo_0\n",
    "display(geo_0.info())\n",
    "display(geo_0.head(10))\n",
    "\n",
    "#check for duplicates \n",
    "geo_0_duplicated = geo_0.duplicated().sum()\n",
    "print(f'The number of duplicated rows in this data frame is {geo_0_duplicated}')\n",
    "print()\n",
    "\n",
    "#drop id column\n",
    "geo_0_id = geo_0['id']\n",
    "geo_0 = geo_0.drop(columns=['id'])\n",
    "\n",
    "# check for missing values\n",
    "display(geo_0.info())\n",
    "print('There are no missing values in this data frame.')"
   ]
  },
  {
   "cell_type": "code",
   "execution_count": 4,
   "metadata": {
    "trusted": true
   },
   "outputs": [
    {
     "data": {
      "image/png": "[encoded data removed]",
      "text/plain": [
       "<Figure size 800x600 with 1 Axes>"
      ]
     },
     "metadata": {},
     "output_type": "display_data"
    },
    {
     "name": "stdout",
     "output_type": "stream",
     "text": [
      "No outliers are seen in this boxplot\n"
     ]
    }
   ],
   "source": [
    "#look for outliers that could impact model behavior\n",
    "plt.figure(figsize=(8, 6))\n",
    "sns.boxplot(x=geo_0['product'], flierprops=dict(marker='o', color='r', markersize=8))\n",
    "plt.title(f'Box Plot Geo 0')\n",
    "plt.xlabel('product')\n",
    "\n",
    "plt.show()\n",
    "print(f'No outliers are seen in this boxplot')"
   ]
  },
  {
   "cell_type": "code",
   "execution_count": 5,
   "metadata": {
    "trusted": true
   },
   "outputs": [
    {
     "data": {
      "text/html": [
       "<div>\n",
       "<style scoped>\n",
       "    .dataframe tbody tr th:only-of-type {\n",
       "        vertical-align: middle;\n",
       "    }\n",
       "\n",
       "    .dataframe tbody tr th {\n",
       "        vertical-align: top;\n",
       "    }\n",
       "\n",
       "    .dataframe thead th {\n",
       "        text-align: right;\n",
       "    }\n",
       "</style>\n",
       "<table border=\"1\" class=\"dataframe\">\n",
       "  <thead>\n",
       "    <tr style=\"text-align: right;\">\n",
       "      <th></th>\n",
       "      <th>f0</th>\n",
       "      <th>f1</th>\n",
       "      <th>f2</th>\n",
       "    </tr>\n",
       "  </thead>\n",
       "  <tbody>\n",
       "    <tr>\n",
       "      <th>0</th>\n",
       "      <td>0.705745</td>\n",
       "      <td>-0.497823</td>\n",
       "      <td>1.221170</td>\n",
       "    </tr>\n",
       "    <tr>\n",
       "      <th>1</th>\n",
       "      <td>1.334711</td>\n",
       "      <td>-0.340164</td>\n",
       "      <td>4.365080</td>\n",
       "    </tr>\n",
       "    <tr>\n",
       "      <th>2</th>\n",
       "      <td>1.022732</td>\n",
       "      <td>0.151990</td>\n",
       "      <td>1.419926</td>\n",
       "    </tr>\n",
       "    <tr>\n",
       "      <th>3</th>\n",
       "      <td>-0.032172</td>\n",
       "      <td>0.139033</td>\n",
       "      <td>2.978566</td>\n",
       "    </tr>\n",
       "    <tr>\n",
       "      <th>4</th>\n",
       "      <td>1.988431</td>\n",
       "      <td>0.155413</td>\n",
       "      <td>4.751769</td>\n",
       "    </tr>\n",
       "  </tbody>\n",
       "</table>\n",
       "</div>"
      ],
      "text/plain": [
       "         f0        f1        f2\n",
       "0  0.705745 -0.497823  1.221170\n",
       "1  1.334711 -0.340164  4.365080\n",
       "2  1.022732  0.151990  1.419926\n",
       "3 -0.032172  0.139033  2.978566\n",
       "4  1.988431  0.155413  4.751769"
      ]
     },
     "metadata": {},
     "output_type": "display_data"
    },
    {
     "data": {
      "text/plain": [
       "0    105.280062\n",
       "1     73.037750\n",
       "2     85.265647\n",
       "3    168.620776\n",
       "4    154.036647\n",
       "Name: product, dtype: float64"
      ]
     },
     "metadata": {},
     "output_type": "display_data"
    }
   ],
   "source": [
    "#split into features and target set for geo 0 \n",
    "g0_features = geo_0.drop(columns=['product'])\n",
    "g0_target = geo_0['product']\n",
    "display(g0_features.head(5))\n",
    "display(g0_target.head(5))"
   ]
  },
  {
   "cell_type": "markdown",
   "metadata": {},
   "source": [
    "## b) Geo 1"
   ]
  },
  {
   "cell_type": "code",
   "execution_count": 6,
   "metadata": {
    "trusted": true
   },
   "outputs": [
    {
     "name": "stdout",
     "output_type": "stream",
     "text": [
      "<class 'pandas.core.frame.DataFrame'>\n",
      "RangeIndex: 100000 entries, 0 to 99999\n",
      "Data columns (total 5 columns):\n",
      " #   Column   Non-Null Count   Dtype  \n",
      "---  ------   --------------   -----  \n",
      " 0   id       100000 non-null  object \n",
      " 1   f0       100000 non-null  float64\n",
      " 2   f1       100000 non-null  float64\n",
      " 3   f2       100000 non-null  float64\n",
      " 4   product  100000 non-null  float64\n",
      "dtypes: float64(4), object(1)\n",
      "memory usage: 3.8+ MB\n"
     ]
    },
    {
     "data": {
      "text/plain": [
       "None"
      ]
     },
     "metadata": {},
     "output_type": "display_data"
    },
    {
     "data": {
      "text/html": [
       "<div>\n",
       "<style scoped>\n",
       "    .dataframe tbody tr th:only-of-type {\n",
       "        vertical-align: middle;\n",
       "    }\n",
       "\n",
       "    .dataframe tbody tr th {\n",
       "        vertical-align: top;\n",
       "    }\n",
       "\n",
       "    .dataframe thead th {\n",
       "        text-align: right;\n",
       "    }\n",
       "</style>\n",
       "<table border=\"1\" class=\"dataframe\">\n",
       "  <thead>\n",
       "    <tr style=\"text-align: right;\">\n",
       "      <th></th>\n",
       "      <th>id</th>\n",
       "      <th>f0</th>\n",
       "      <th>f1</th>\n",
       "      <th>f2</th>\n",
       "      <th>product</th>\n",
       "    </tr>\n",
       "  </thead>\n",
       "  <tbody>\n",
       "    <tr>\n",
       "      <th>0</th>\n",
       "      <td>kBEdx</td>\n",
       "      <td>-15.001348</td>\n",
       "      <td>-8.276000</td>\n",
       "      <td>-0.005876</td>\n",
       "      <td>3.179103</td>\n",
       "    </tr>\n",
       "    <tr>\n",
       "      <th>1</th>\n",
       "      <td>62mP7</td>\n",
       "      <td>14.272088</td>\n",
       "      <td>-3.475083</td>\n",
       "      <td>0.999183</td>\n",
       "      <td>26.953261</td>\n",
       "    </tr>\n",
       "    <tr>\n",
       "      <th>2</th>\n",
       "      <td>vyE1P</td>\n",
       "      <td>6.263187</td>\n",
       "      <td>-5.948386</td>\n",
       "      <td>5.001160</td>\n",
       "      <td>134.766305</td>\n",
       "    </tr>\n",
       "    <tr>\n",
       "      <th>3</th>\n",
       "      <td>KcrkZ</td>\n",
       "      <td>-13.081196</td>\n",
       "      <td>-11.506057</td>\n",
       "      <td>4.999415</td>\n",
       "      <td>137.945408</td>\n",
       "    </tr>\n",
       "    <tr>\n",
       "      <th>4</th>\n",
       "      <td>AHL4O</td>\n",
       "      <td>12.702195</td>\n",
       "      <td>-8.147433</td>\n",
       "      <td>5.004363</td>\n",
       "      <td>134.766305</td>\n",
       "    </tr>\n",
       "    <tr>\n",
       "      <th>5</th>\n",
       "      <td>HHckp</td>\n",
       "      <td>-3.327590</td>\n",
       "      <td>-2.205276</td>\n",
       "      <td>3.003647</td>\n",
       "      <td>84.038886</td>\n",
       "    </tr>\n",
       "    <tr>\n",
       "      <th>6</th>\n",
       "      <td>h5Ujo</td>\n",
       "      <td>-11.142655</td>\n",
       "      <td>-10.133399</td>\n",
       "      <td>4.002382</td>\n",
       "      <td>110.992147</td>\n",
       "    </tr>\n",
       "    <tr>\n",
       "      <th>7</th>\n",
       "      <td>muH9x</td>\n",
       "      <td>4.234715</td>\n",
       "      <td>-0.001354</td>\n",
       "      <td>2.004588</td>\n",
       "      <td>53.906522</td>\n",
       "    </tr>\n",
       "    <tr>\n",
       "      <th>8</th>\n",
       "      <td>YiRkx</td>\n",
       "      <td>13.355129</td>\n",
       "      <td>-0.332068</td>\n",
       "      <td>4.998647</td>\n",
       "      <td>134.766305</td>\n",
       "    </tr>\n",
       "    <tr>\n",
       "      <th>9</th>\n",
       "      <td>jG6Gi</td>\n",
       "      <td>1.069227</td>\n",
       "      <td>-11.025667</td>\n",
       "      <td>4.997844</td>\n",
       "      <td>137.945408</td>\n",
       "    </tr>\n",
       "  </tbody>\n",
       "</table>\n",
       "</div>"
      ],
      "text/plain": [
       "      id         f0         f1        f2     product\n",
       "0  kBEdx -15.001348  -8.276000 -0.005876    3.179103\n",
       "1  62mP7  14.272088  -3.475083  0.999183   26.953261\n",
       "2  vyE1P   6.263187  -5.948386  5.001160  134.766305\n",
       "3  KcrkZ -13.081196 -11.506057  4.999415  137.945408\n",
       "4  AHL4O  12.702195  -8.147433  5.004363  134.766305\n",
       "5  HHckp  -3.327590  -2.205276  3.003647   84.038886\n",
       "6  h5Ujo -11.142655 -10.133399  4.002382  110.992147\n",
       "7  muH9x   4.234715  -0.001354  2.004588   53.906522\n",
       "8  YiRkx  13.355129  -0.332068  4.998647  134.766305\n",
       "9  jG6Gi   1.069227 -11.025667  4.997844  137.945408"
      ]
     },
     "metadata": {},
     "output_type": "display_data"
    },
    {
     "name": "stdout",
     "output_type": "stream",
     "text": [
      "The number of duplicated rows in this data frame is 0\n",
      "\n",
      "<class 'pandas.core.frame.DataFrame'>\n",
      "RangeIndex: 100000 entries, 0 to 99999\n",
      "Data columns (total 4 columns):\n",
      " #   Column   Non-Null Count   Dtype  \n",
      "---  ------   --------------   -----  \n",
      " 0   f0       100000 non-null  float64\n",
      " 1   f1       100000 non-null  float64\n",
      " 2   f2       100000 non-null  float64\n",
      " 3   product  100000 non-null  float64\n",
      "dtypes: float64(4)\n",
      "memory usage: 3.1 MB\n"
     ]
    },
    {
     "data": {
      "text/plain": [
       "None"
      ]
     },
     "metadata": {},
     "output_type": "display_data"
    },
    {
     "name": "stdout",
     "output_type": "stream",
     "text": [
      "There are no missing values in this data frame.\n"
     ]
    }
   ],
   "source": [
    "#geo_1\n",
    "display(geo_1.info())\n",
    "display(geo_1.head(10))\n",
    "\n",
    "#check for duplicates \n",
    "geo_1_duplicated = geo_1.duplicated().sum()\n",
    "print(f'The number of duplicated rows in this data frame is {geo_1_duplicated}')\n",
    "print()\n",
    "\n",
    "#drop id column\n",
    "geo_1_id = geo_1['id']\n",
    "geo_1 = geo_1.drop(columns=['id'])\n",
    "\n",
    "# check for missing values\n",
    "display(geo_1.info())\n",
    "print('There are no missing values in this data frame.')"
   ]
  },
  {
   "cell_type": "code",
   "execution_count": 7,
   "metadata": {
    "trusted": true
   },
   "outputs": [
    {
     "data": {
      "image/png": "[encoded data removed]",
      "text/plain": [
       "<Figure size 800x600 with 1 Axes>"
      ]
     },
     "metadata": {},
     "output_type": "display_data"
    },
    {
     "name": "stdout",
     "output_type": "stream",
     "text": [
      "No outliers are seen in this boxplot\n"
     ]
    }
   ],
   "source": [
    "#look for outliers that could impact model behavior\n",
    "plt.figure(figsize=(8, 6))\n",
    "sns.boxplot(x=geo_1['product'], flierprops=dict(marker='o', color='r', markersize=8))\n",
    "plt.title(f'Box Plot Geo 1')\n",
    "plt.xlabel('product')\n",
    "\n",
    "plt.show()\n",
    "print(f'No outliers are seen in this boxplot')"
   ]
  },
  {
   "cell_type": "code",
   "execution_count": 8,
   "metadata": {
    "trusted": true
   },
   "outputs": [
    {
     "data": {
      "text/html": [
       "<div>\n",
       "<style scoped>\n",
       "    .dataframe tbody tr th:only-of-type {\n",
       "        vertical-align: middle;\n",
       "    }\n",
       "\n",
       "    .dataframe tbody tr th {\n",
       "        vertical-align: top;\n",
       "    }\n",
       "\n",
       "    .dataframe thead th {\n",
       "        text-align: right;\n",
       "    }\n",
       "</style>\n",
       "<table border=\"1\" class=\"dataframe\">\n",
       "  <thead>\n",
       "    <tr style=\"text-align: right;\">\n",
       "      <th></th>\n",
       "      <th>f0</th>\n",
       "      <th>f1</th>\n",
       "      <th>f2</th>\n",
       "    </tr>\n",
       "  </thead>\n",
       "  <tbody>\n",
       "    <tr>\n",
       "      <th>0</th>\n",
       "      <td>-15.001348</td>\n",
       "      <td>-8.276000</td>\n",
       "      <td>-0.005876</td>\n",
       "    </tr>\n",
       "    <tr>\n",
       "      <th>1</th>\n",
       "      <td>14.272088</td>\n",
       "      <td>-3.475083</td>\n",
       "      <td>0.999183</td>\n",
       "    </tr>\n",
       "    <tr>\n",
       "      <th>2</th>\n",
       "      <td>6.263187</td>\n",
       "      <td>-5.948386</td>\n",
       "      <td>5.001160</td>\n",
       "    </tr>\n",
       "    <tr>\n",
       "      <th>3</th>\n",
       "      <td>-13.081196</td>\n",
       "      <td>-11.506057</td>\n",
       "      <td>4.999415</td>\n",
       "    </tr>\n",
       "    <tr>\n",
       "      <th>4</th>\n",
       "      <td>12.702195</td>\n",
       "      <td>-8.147433</td>\n",
       "      <td>5.004363</td>\n",
       "    </tr>\n",
       "  </tbody>\n",
       "</table>\n",
       "</div>"
      ],
      "text/plain": [
       "          f0         f1        f2\n",
       "0 -15.001348  -8.276000 -0.005876\n",
       "1  14.272088  -3.475083  0.999183\n",
       "2   6.263187  -5.948386  5.001160\n",
       "3 -13.081196 -11.506057  4.999415\n",
       "4  12.702195  -8.147433  5.004363"
      ]
     },
     "metadata": {},
     "output_type": "display_data"
    },
    {
     "data": {
      "text/plain": [
       "0      3.179103\n",
       "1     26.953261\n",
       "2    134.766305\n",
       "3    137.945408\n",
       "4    134.766305\n",
       "Name: product, dtype: float64"
      ]
     },
     "metadata": {},
     "output_type": "display_data"
    }
   ],
   "source": [
    "#split into features and target set for geo 1\n",
    "g1_features = geo_1.drop(columns=['product'])\n",
    "g1_target = geo_1['product']\n",
    "display(g1_features.head(5))\n",
    "display(g1_target.head(5))"
   ]
  },
  {
   "cell_type": "markdown",
   "metadata": {},
   "source": [
    "## c) Geo 2"
   ]
  },
  {
   "cell_type": "code",
   "execution_count": 9,
   "metadata": {
    "trusted": true
   },
   "outputs": [
    {
     "name": "stdout",
     "output_type": "stream",
     "text": [
      "<class 'pandas.core.frame.DataFrame'>\n",
      "RangeIndex: 100000 entries, 0 to 99999\n",
      "Data columns (total 5 columns):\n",
      " #   Column   Non-Null Count   Dtype  \n",
      "---  ------   --------------   -----  \n",
      " 0   id       100000 non-null  object \n",
      " 1   f0       100000 non-null  float64\n",
      " 2   f1       100000 non-null  float64\n",
      " 3   f2       100000 non-null  float64\n",
      " 4   product  100000 non-null  float64\n",
      "dtypes: float64(4), object(1)\n",
      "memory usage: 3.8+ MB\n"
     ]
    },
    {
     "data": {
      "text/plain": [
       "None"
      ]
     },
     "metadata": {},
     "output_type": "display_data"
    },
    {
     "data": {
      "text/html": [
       "<div>\n",
       "<style scoped>\n",
       "    .dataframe tbody tr th:only-of-type {\n",
       "        vertical-align: middle;\n",
       "    }\n",
       "\n",
       "    .dataframe tbody tr th {\n",
       "        vertical-align: top;\n",
       "    }\n",
       "\n",
       "    .dataframe thead th {\n",
       "        text-align: right;\n",
       "    }\n",
       "</style>\n",
       "<table border=\"1\" class=\"dataframe\">\n",
       "  <thead>\n",
       "    <tr style=\"text-align: right;\">\n",
       "      <th></th>\n",
       "      <th>id</th>\n",
       "      <th>f0</th>\n",
       "      <th>f1</th>\n",
       "      <th>f2</th>\n",
       "      <th>product</th>\n",
       "    </tr>\n",
       "  </thead>\n",
       "  <tbody>\n",
       "    <tr>\n",
       "      <th>0</th>\n",
       "      <td>fwXo0</td>\n",
       "      <td>-1.146987</td>\n",
       "      <td>0.963328</td>\n",
       "      <td>-0.828965</td>\n",
       "      <td>27.758673</td>\n",
       "    </tr>\n",
       "    <tr>\n",
       "      <th>1</th>\n",
       "      <td>WJtFt</td>\n",
       "      <td>0.262778</td>\n",
       "      <td>0.269839</td>\n",
       "      <td>-2.530187</td>\n",
       "      <td>56.069697</td>\n",
       "    </tr>\n",
       "    <tr>\n",
       "      <th>2</th>\n",
       "      <td>ovLUW</td>\n",
       "      <td>0.194587</td>\n",
       "      <td>0.289035</td>\n",
       "      <td>-5.586433</td>\n",
       "      <td>62.871910</td>\n",
       "    </tr>\n",
       "    <tr>\n",
       "      <th>3</th>\n",
       "      <td>q6cA6</td>\n",
       "      <td>2.236060</td>\n",
       "      <td>-0.553760</td>\n",
       "      <td>0.930038</td>\n",
       "      <td>114.572842</td>\n",
       "    </tr>\n",
       "    <tr>\n",
       "      <th>4</th>\n",
       "      <td>WPMUX</td>\n",
       "      <td>-0.515993</td>\n",
       "      <td>1.716266</td>\n",
       "      <td>5.899011</td>\n",
       "      <td>149.600746</td>\n",
       "    </tr>\n",
       "    <tr>\n",
       "      <th>5</th>\n",
       "      <td>LzZXx</td>\n",
       "      <td>-0.758092</td>\n",
       "      <td>0.710691</td>\n",
       "      <td>2.585887</td>\n",
       "      <td>90.222465</td>\n",
       "    </tr>\n",
       "    <tr>\n",
       "      <th>6</th>\n",
       "      <td>WBHRv</td>\n",
       "      <td>-0.574891</td>\n",
       "      <td>0.317727</td>\n",
       "      <td>1.773745</td>\n",
       "      <td>45.641478</td>\n",
       "    </tr>\n",
       "    <tr>\n",
       "      <th>7</th>\n",
       "      <td>XO8fn</td>\n",
       "      <td>-1.906649</td>\n",
       "      <td>-2.458350</td>\n",
       "      <td>-0.177097</td>\n",
       "      <td>72.480640</td>\n",
       "    </tr>\n",
       "    <tr>\n",
       "      <th>8</th>\n",
       "      <td>ybmQ5</td>\n",
       "      <td>1.776292</td>\n",
       "      <td>-0.279356</td>\n",
       "      <td>3.004156</td>\n",
       "      <td>106.616832</td>\n",
       "    </tr>\n",
       "    <tr>\n",
       "      <th>9</th>\n",
       "      <td>OilcN</td>\n",
       "      <td>-1.214452</td>\n",
       "      <td>-0.439314</td>\n",
       "      <td>5.922514</td>\n",
       "      <td>52.954532</td>\n",
       "    </tr>\n",
       "  </tbody>\n",
       "</table>\n",
       "</div>"
      ],
      "text/plain": [
       "      id        f0        f1        f2     product\n",
       "0  fwXo0 -1.146987  0.963328 -0.828965   27.758673\n",
       "1  WJtFt  0.262778  0.269839 -2.530187   56.069697\n",
       "2  ovLUW  0.194587  0.289035 -5.586433   62.871910\n",
       "3  q6cA6  2.236060 -0.553760  0.930038  114.572842\n",
       "4  WPMUX -0.515993  1.716266  5.899011  149.600746\n",
       "5  LzZXx -0.758092  0.710691  2.585887   90.222465\n",
       "6  WBHRv -0.574891  0.317727  1.773745   45.641478\n",
       "7  XO8fn -1.906649 -2.458350 -0.177097   72.480640\n",
       "8  ybmQ5  1.776292 -0.279356  3.004156  106.616832\n",
       "9  OilcN -1.214452 -0.439314  5.922514   52.954532"
      ]
     },
     "metadata": {},
     "output_type": "display_data"
    },
    {
     "name": "stdout",
     "output_type": "stream",
     "text": [
      "The number of duplicated rows in this data frame is 0\n",
      "\n",
      "<class 'pandas.core.frame.DataFrame'>\n",
      "RangeIndex: 100000 entries, 0 to 99999\n",
      "Data columns (total 4 columns):\n",
      " #   Column   Non-Null Count   Dtype  \n",
      "---  ------   --------------   -----  \n",
      " 0   f0       100000 non-null  float64\n",
      " 1   f1       100000 non-null  float64\n",
      " 2   f2       100000 non-null  float64\n",
      " 3   product  100000 non-null  float64\n",
      "dtypes: float64(4)\n",
      "memory usage: 3.1 MB\n"
     ]
    },
    {
     "data": {
      "text/plain": [
       "None"
      ]
     },
     "metadata": {},
     "output_type": "display_data"
    },
    {
     "name": "stdout",
     "output_type": "stream",
     "text": [
      "There are no missing values in this data frame.\n"
     ]
    }
   ],
   "source": [
    "#geo_2\n",
    "display(geo_2.info())\n",
    "display(geo_2.head(10))\n",
    "\n",
    "#check for duplicates \n",
    "geo_2_duplicated = geo_2.duplicated().sum()\n",
    "print(f'The number of duplicated rows in this data frame is {geo_2_duplicated}')\n",
    "print()\n",
    "\n",
    "#drop id column\n",
    "geo_2_id = geo_2['id']\n",
    "geo_2 = geo_2.drop(columns=['id'])\n",
    "\n",
    "# check for missing values\n",
    "display(geo_2.info())\n",
    "print('There are no missing values in this data frame.')"
   ]
  },
  {
   "cell_type": "code",
   "execution_count": 10,
   "metadata": {
    "trusted": true
   },
   "outputs": [
    {
     "data": {
      "image/png": "[encoded data removed]",
      "text/plain": [
       "<Figure size 800x600 with 1 Axes>"
      ]
     },
     "metadata": {},
     "output_type": "display_data"
    },
    {
     "name": "stdout",
     "output_type": "stream",
     "text": [
      "No outliers are seen in this boxplot\n"
     ]
    }
   ],
   "source": [
    "#look for outliers that could impact model behavior\n",
    "plt.figure(figsize=(8, 6))\n",
    "sns.boxplot(x=geo_2['product'], flierprops=dict(marker='o', color='r', markersize=8))\n",
    "plt.title(f'Box Plot Geo 2')\n",
    "plt.xlabel('product')\n",
    "\n",
    "plt.show()\n",
    "print(f'No outliers are seen in this boxplot')"
   ]
  },
  {
   "cell_type": "code",
   "execution_count": 11,
   "metadata": {
    "trusted": true
   },
   "outputs": [
    {
     "data": {
      "text/html": [
       "<div>\n",
       "<style scoped>\n",
       "    .dataframe tbody tr th:only-of-type {\n",
       "        vertical-align: middle;\n",
       "    }\n",
       "\n",
       "    .dataframe tbody tr th {\n",
       "        vertical-align: top;\n",
       "    }\n",
       "\n",
       "    .dataframe thead th {\n",
       "        text-align: right;\n",
       "    }\n",
       "</style>\n",
       "<table border=\"1\" class=\"dataframe\">\n",
       "  <thead>\n",
       "    <tr style=\"text-align: right;\">\n",
       "      <th></th>\n",
       "      <th>f0</th>\n",
       "      <th>f1</th>\n",
       "      <th>f2</th>\n",
       "    </tr>\n",
       "  </thead>\n",
       "  <tbody>\n",
       "    <tr>\n",
       "      <th>0</th>\n",
       "      <td>-1.146987</td>\n",
       "      <td>0.963328</td>\n",
       "      <td>-0.828965</td>\n",
       "    </tr>\n",
       "    <tr>\n",
       "      <th>1</th>\n",
       "      <td>0.262778</td>\n",
       "      <td>0.269839</td>\n",
       "      <td>-2.530187</td>\n",
       "    </tr>\n",
       "    <tr>\n",
       "      <th>2</th>\n",
       "      <td>0.194587</td>\n",
       "      <td>0.289035</td>\n",
       "      <td>-5.586433</td>\n",
       "    </tr>\n",
       "    <tr>\n",
       "      <th>3</th>\n",
       "      <td>2.236060</td>\n",
       "      <td>-0.553760</td>\n",
       "      <td>0.930038</td>\n",
       "    </tr>\n",
       "    <tr>\n",
       "      <th>4</th>\n",
       "      <td>-0.515993</td>\n",
       "      <td>1.716266</td>\n",
       "      <td>5.899011</td>\n",
       "    </tr>\n",
       "  </tbody>\n",
       "</table>\n",
       "</div>"
      ],
      "text/plain": [
       "         f0        f1        f2\n",
       "0 -1.146987  0.963328 -0.828965\n",
       "1  0.262778  0.269839 -2.530187\n",
       "2  0.194587  0.289035 -5.586433\n",
       "3  2.236060 -0.553760  0.930038\n",
       "4 -0.515993  1.716266  5.899011"
      ]
     },
     "metadata": {},
     "output_type": "display_data"
    },
    {
     "data": {
      "text/plain": [
       "0     27.758673\n",
       "1     56.069697\n",
       "2     62.871910\n",
       "3    114.572842\n",
       "4    149.600746\n",
       "Name: product, dtype: float64"
      ]
     },
     "metadata": {},
     "output_type": "display_data"
    }
   ],
   "source": [
    "#split into features and target set\n",
    "g2_features = geo_2.drop(columns=['product'])\n",
    "g2_target = geo_2['product']\n",
    "display(g2_features.head(5))\n",
    "display(g2_target.head(5))"
   ]
  },
  {
   "cell_type": "markdown",
   "metadata": {},
   "source": [
    "## Train and Test a Model for Each Region"
   ]
  },
  {
   "cell_type": "markdown",
   "metadata": {},
   "source": [
    "Data is prepared for the model training and testing by applying feature scaling. Because the features are on different scales, this method ensures that all features are considered equally important regardless of value."
   ]
  },
  {
   "cell_type": "markdown",
   "metadata": {},
   "source": [
    "## a) Geo_0 data set"
   ]
  },
  {
   "cell_type": "code",
   "execution_count": 12,
   "metadata": {
    "trusted": true
   },
   "outputs": [
    {
     "name": "stdout",
     "output_type": "stream",
     "text": [
      "(75000, 3)\n",
      "(25000, 3)\n"
     ]
    }
   ],
   "source": [
    "#Split the data into a training set and validation set at a ratio of 75:25\n",
    "g0_x_train, g0_x_val, g0_y_train, g0_y_val = train_test_split(g0_features, g0_target, test_size=0.25, random_state=123)\n",
    "print(g0_x_train.shape)\n",
    "print(g0_x_val.shape)\n",
    "\n",
    "#use feature scaling to ensure that all features are equally important\n",
    "scaler = StandardScaler()\n",
    "g0_x_train_scaled = scaler.fit_transform(g0_x_train)\n",
    "g0_x_val_scaled = scaler.transform(g0_x_val)"
   ]
  },
  {
   "cell_type": "code",
   "execution_count": 13,
   "metadata": {
    "trusted": true
   },
   "outputs": [],
   "source": [
    "#train the model and make predictions for the validation set\n",
    "#save the predictions and correct answers for the validation set\n",
    "model= LinearRegression()\n",
    "model_0 = model.fit(g0_x_train_scaled,g0_y_train)\n",
    "g0_pred_val = model_0.predict(g0_x_val_scaled)\n",
    "#g0_pred_val are the predictions and g0_y_val are the correct answers"
   ]
  },
  {
   "cell_type": "code",
   "execution_count": 14,
   "metadata": {
    "trusted": true
   },
   "outputs": [
    {
     "name": "stdout",
     "output_type": "stream",
     "text": [
      "The average volume of predicted reserves is 92.54936189116306 (in thousands of barrels)\n",
      "The average true volume of reserves is 92.85062391123445 (in thousands of barrels)\n",
      "Root Mean Squared Error (RMSE) for geo_0: 37.64786282376177\n",
      "Cross-validation RMSE scores for each fold: [37.83096164 37.5014502  37.99865563 37.59842431 37.61166073]\n",
      "Average RMSE score using cross-val: 37.70823050364874\n"
     ]
    }
   ],
   "source": [
    "#Print the average volume of predicted reserves and model RMSE\n",
    "g0_avg_product = g0_pred_val.mean()\n",
    "print(f'The average volume of predicted reserves is {g0_avg_product} (in thousands of barrels)')\n",
    "print(f'The average true volume of reserves is {g0_y_val.mean()} (in thousands of barrels)')\n",
    "\n",
    "#calculate RMSE\n",
    "g0_mse = mean_squared_error(g0_y_val, g0_pred_val)\n",
    "g0_rmse = np.sqrt(g0_mse)\n",
    "print(f\"Root Mean Squared Error (RMSE) for geo_0: {g0_rmse}\")\n",
    "\n",
    "#calculate cross-value score\n",
    "cv_scores_0 = cross_val_score(model_0, g0_x_train_scaled, g0_y_train, cv=5, scoring='neg_mean_squared_error')\n",
    "rmse_scores = np.sqrt(-cv_scores_0)\n",
    "\n",
    "print(f\"Cross-validation RMSE scores for each fold: {rmse_scores}\")\n",
    "print(f\"Average RMSE score using cross-val: {rmse_scores.mean()}\")"
   ]
  },
  {
   "cell_type": "markdown",
   "metadata": {},
   "source": [
    "## b) Geo_1 data set"
   ]
  },
  {
   "cell_type": "code",
   "execution_count": 15,
   "metadata": {
    "trusted": true
   },
   "outputs": [
    {
     "name": "stdout",
     "output_type": "stream",
     "text": [
      "(75000, 3)\n",
      "(25000, 3)\n"
     ]
    }
   ],
   "source": [
    "#Split the data into a training set and validation set at a ratio of 75:25\n",
    "g1_x_train, g1_x_val, g1_y_train, g1_y_val = train_test_split(g1_features, g1_target, test_size=0.25, random_state=123)\n",
    "print(g1_x_train.shape)\n",
    "print(g1_x_val.shape)\n",
    "\n",
    "#use feature scaling to ensure that all features are equally important\n",
    "scaler = StandardScaler()\n",
    "g1_x_train_scaled = scaler.fit_transform(g1_x_train)\n",
    "g1_x_val_scaled = scaler.transform(g1_x_val)"
   ]
  },
  {
   "cell_type": "code",
   "execution_count": 16,
   "metadata": {
    "trusted": true
   },
   "outputs": [],
   "source": [
    "#train the model and make predictions for the validation set\n",
    "#save the predictions and correct answers for the validation set\n",
    "model= LinearRegression()\n",
    "model_1 = model.fit(g1_x_train_scaled, g1_y_train)\n",
    "g1_pred_val = model_1.predict(g1_x_val_scaled)\n",
    "#g1_pred_val are the predictions and g1_y_val are the correct answers"
   ]
  },
  {
   "cell_type": "code",
   "execution_count": 17,
   "metadata": {
    "trusted": true
   },
   "outputs": [
    {
     "name": "stdout",
     "output_type": "stream",
     "text": [
      "The average volume of predicted reserves is 69.28001860653976 (in thousands of barrels)\n",
      "The average true volume of reserves is 69.27371236077902 (in thousands of barrels)\n",
      "Root Mean Squared Error (RMSE) for geo_0: 0.8954139804944314\n",
      "Cross-validation RMSE scores for each fold: [0.88828951 0.89022109 0.88910691 0.88659141 0.88948678]\n",
      "Average RMSE score using cross-val: 0.8887391383209982\n"
     ]
    }
   ],
   "source": [
    "#Print the average volume of predicted reserves and model RMSE\n",
    "g1_avg_product = g1_pred_val.mean()\n",
    "print(f'The average volume of predicted reserves is {g1_avg_product} (in thousands of barrels)')\n",
    "print(f'The average true volume of reserves is {g1_y_val.mean()} (in thousands of barrels)')\n",
    "\n",
    "#calculate RMSE\n",
    "g1_mse = mean_squared_error(g1_y_val, g1_pred_val)\n",
    "g1_rmse = np.sqrt(g1_mse)\n",
    "print(f\"Root Mean Squared Error (RMSE) for geo_0: {g1_rmse}\")\n",
    "\n",
    "#calculate cross-value score\n",
    "cv_scores_1 = cross_val_score(model_1, g1_x_train_scaled, g1_y_train, cv=5, scoring='neg_mean_squared_error')\n",
    "rmse_scores = np.sqrt(-cv_scores_1)\n",
    "\n",
    "print(f\"Cross-validation RMSE scores for each fold: {rmse_scores}\")\n",
    "print(f\"Average RMSE score using cross-val: {rmse_scores.mean()}\")"
   ]
  },
  {
   "cell_type": "markdown",
   "metadata": {},
   "source": [
    "## c) Geo_2 data set"
   ]
  },
  {
   "cell_type": "code",
   "execution_count": 18,
   "metadata": {
    "trusted": true
   },
   "outputs": [
    {
     "name": "stdout",
     "output_type": "stream",
     "text": [
      "(75000, 3)\n",
      "(25000, 3)\n"
     ]
    }
   ],
   "source": [
    "#Split the data into a training set and validation set at a ratio of 75:25\n",
    "g2_x_train, g2_x_val, g2_y_train, g2_y_val = train_test_split(g2_features, g2_target, test_size=0.25, random_state=123)\n",
    "print(g2_x_train.shape)\n",
    "print(g2_x_val.shape)\n",
    "\n",
    "#use feature scaling to ensure that all features are equally important\n",
    "scaler = StandardScaler()\n",
    "g2_x_train_scaled = scaler.fit_transform(g2_x_train)\n",
    "g2_x_val_scaled = scaler.transform(g2_x_val)"
   ]
  },
  {
   "cell_type": "code",
   "execution_count": 19,
   "metadata": {
    "trusted": true
   },
   "outputs": [],
   "source": [
    "#train the model and make predictions for the validation set\n",
    "#save the predictions and correct answers for the validation set\n",
    "model= LinearRegression()\n",
    "model_2 = model.fit(g2_x_train_scaled, g2_y_train)\n",
    "g2_pred_val = model_2.predict(g2_x_val_scaled)\n",
    "#g2_pred_val are the predictions and g2_y_val are the correct answers"
   ]
  },
  {
   "cell_type": "code",
   "execution_count": 20,
   "metadata": {
    "trusted": true
   },
   "outputs": [
    {
     "name": "stdout",
     "output_type": "stream",
     "text": [
      "The average volume of predicted reserves is 95.09859933591373 (in thousands of barrels)\n",
      "The average true volume of reserves is 94.87348818660213 (in thousands of barrels)\n",
      "Root Mean Squared Error (RMSE) for geo_0: 40.12803006598514\n",
      "Cross-validation RMSE scores for each fold: [40.26102539 40.052099   39.86496653 39.95105519 40.03797663]\n",
      "Average RMSE score using cross-val: 40.033424546869085\n"
     ]
    }
   ],
   "source": [
    "#Print the average volume of predicted reserves and model RMSE\n",
    "g2_avg_product = g2_pred_val.mean()\n",
    "print(f'The average volume of predicted reserves is {g2_avg_product} (in thousands of barrels)')\n",
    "print(f'The average true volume of reserves is {g2_y_val.mean()} (in thousands of barrels)')\n",
    "\n",
    "#calculate RMSE\n",
    "g2_mse = mean_squared_error(g2_y_val, g2_pred_val)\n",
    "g2_rmse = np.sqrt(g2_mse)\n",
    "print(f\"Root Mean Squared Error (RMSE) for geo_0: {g2_rmse}\")\n",
    "\n",
    "#calculate cross-value score\n",
    "cv_scores_2 = cross_val_score(model_2, g2_x_train_scaled, g2_y_train, cv=5, scoring='neg_mean_squared_error')\n",
    "rmse_scores = np.sqrt(-cv_scores_2)\n",
    "\n",
    "print(f\"Cross-validation RMSE scores for each fold: {rmse_scores}\")\n",
    "print(f\"Average RMSE score using cross-val: {rmse_scores.mean()}\")"
   ]
  },
  {
   "cell_type": "markdown",
   "metadata": {},
   "source": [
    "For Geo_0:\n",
    "The average volume of predicted reserves is 92.54936189116306 (in thousands of barrels)\n",
    "The average true volume of reserves is 92.85062391123445 (in thousands of barrels)\n",
    "Root Mean Squared Error (RMSE) for geo_0: 37.64786282376177\n",
    "\n",
    "For Geo_1:\n",
    "The average volume of predicted reserves is 69.28001860653976 (in thousands of barrels)\n",
    "The average true volume of reserves is 69.27371236077902 (in thousands of barrels)\n",
    "Root Mean Squared Error (RMSE) for geo_0: 0.8954139804944314\n",
    "\n",
    "For Geo_2:\n",
    "The average volume of predicted reserves is 95.09859933591373 (in thousands of barrels)\n",
    "The average true volume of reserves is 94.87348818660213 (in thousands of barrels)\n",
    "Root Mean Squared Error (RMSE) for geo_0: 40.12803006598514\n",
    "\n",
    "RMSE tells us how far predictions fall from the true values. It is interesting to note that while on the average values for all three regions were close in value, the RMSE for region 0 and 2 was relatively high. This indicates some level of innacuracy in the models. Feature scaling was employed and did not help lower the RMSE score. No outliers that were found in any data sets that could alter model performance. Other linear regression models like Ridge and Lasso did not increase model performance. While this gives us insight into product values, perhaps using another model type would be beneficial in finding more accurate results."
   ]
  },
  {
   "cell_type": "markdown",
   "metadata": {},
   "source": [
    "## Prepare for Profit Calculation"
   ]
  },
  {
   "cell_type": "markdown",
   "metadata": {},
   "source": [
    "To calculate profit, the cost and revenue for the oil wells must be determined (profit = revenue - cost). The revenue will be calculated by multiplying the volume of oil by the price (in thousands of barrels). The cost will be the amount of budget allocated to each well."
   ]
  },
  {
   "cell_type": "code",
   "execution_count": 21,
   "metadata": {
    "trusted": true
   },
   "outputs": [
    {
     "data": {
      "text/html": [
       "<div>\n",
       "<style scoped>\n",
       "    .dataframe tbody tr th:only-of-type {\n",
       "        vertical-align: middle;\n",
       "    }\n",
       "\n",
       "    .dataframe tbody tr th {\n",
       "        vertical-align: top;\n",
       "    }\n",
       "\n",
       "    .dataframe thead th {\n",
       "        text-align: right;\n",
       "    }\n",
       "</style>\n",
       "<table border=\"1\" class=\"dataframe\">\n",
       "  <thead>\n",
       "    <tr style=\"text-align: right;\">\n",
       "      <th></th>\n",
       "      <th>f0</th>\n",
       "      <th>f1</th>\n",
       "      <th>f2</th>\n",
       "      <th>product</th>\n",
       "      <th>revenue</th>\n",
       "    </tr>\n",
       "  </thead>\n",
       "  <tbody>\n",
       "    <tr>\n",
       "      <th>0</th>\n",
       "      <td>0.705745</td>\n",
       "      <td>-0.497823</td>\n",
       "      <td>1.221170</td>\n",
       "      <td>105.280062</td>\n",
       "      <td>473760.278296</td>\n",
       "    </tr>\n",
       "    <tr>\n",
       "      <th>1</th>\n",
       "      <td>1.334711</td>\n",
       "      <td>-0.340164</td>\n",
       "      <td>4.365080</td>\n",
       "      <td>73.037750</td>\n",
       "      <td>328669.876193</td>\n",
       "    </tr>\n",
       "    <tr>\n",
       "      <th>2</th>\n",
       "      <td>1.022732</td>\n",
       "      <td>0.151990</td>\n",
       "      <td>1.419926</td>\n",
       "      <td>85.265647</td>\n",
       "      <td>383695.412089</td>\n",
       "    </tr>\n",
       "    <tr>\n",
       "      <th>3</th>\n",
       "      <td>-0.032172</td>\n",
       "      <td>0.139033</td>\n",
       "      <td>2.978566</td>\n",
       "      <td>168.620776</td>\n",
       "      <td>758793.489998</td>\n",
       "    </tr>\n",
       "    <tr>\n",
       "      <th>4</th>\n",
       "      <td>1.988431</td>\n",
       "      <td>0.155413</td>\n",
       "      <td>4.751769</td>\n",
       "      <td>154.036647</td>\n",
       "      <td>693164.910318</td>\n",
       "    </tr>\n",
       "  </tbody>\n",
       "</table>\n",
       "</div>"
      ],
      "text/plain": [
       "         f0        f1        f2     product        revenue\n",
       "0  0.705745 -0.497823  1.221170  105.280062  473760.278296\n",
       "1  1.334711 -0.340164  4.365080   73.037750  328669.876193\n",
       "2  1.022732  0.151990  1.419926   85.265647  383695.412089\n",
       "3 -0.032172  0.139033  2.978566  168.620776  758793.489998\n",
       "4  1.988431  0.155413  4.751769  154.036647  693164.910318"
      ]
     },
     "metadata": {},
     "output_type": "display_data"
    },
    {
     "data": {
      "text/html": [
       "<div>\n",
       "<style scoped>\n",
       "    .dataframe tbody tr th:only-of-type {\n",
       "        vertical-align: middle;\n",
       "    }\n",
       "\n",
       "    .dataframe tbody tr th {\n",
       "        vertical-align: top;\n",
       "    }\n",
       "\n",
       "    .dataframe thead th {\n",
       "        text-align: right;\n",
       "    }\n",
       "</style>\n",
       "<table border=\"1\" class=\"dataframe\">\n",
       "  <thead>\n",
       "    <tr style=\"text-align: right;\">\n",
       "      <th></th>\n",
       "      <th>f0</th>\n",
       "      <th>f1</th>\n",
       "      <th>f2</th>\n",
       "      <th>product</th>\n",
       "      <th>revenue</th>\n",
       "    </tr>\n",
       "  </thead>\n",
       "  <tbody>\n",
       "    <tr>\n",
       "      <th>0</th>\n",
       "      <td>-15.001348</td>\n",
       "      <td>-8.276000</td>\n",
       "      <td>-0.005876</td>\n",
       "      <td>3.179103</td>\n",
       "      <td>473760.278296</td>\n",
       "    </tr>\n",
       "    <tr>\n",
       "      <th>1</th>\n",
       "      <td>14.272088</td>\n",
       "      <td>-3.475083</td>\n",
       "      <td>0.999183</td>\n",
       "      <td>26.953261</td>\n",
       "      <td>328669.876193</td>\n",
       "    </tr>\n",
       "    <tr>\n",
       "      <th>2</th>\n",
       "      <td>6.263187</td>\n",
       "      <td>-5.948386</td>\n",
       "      <td>5.001160</td>\n",
       "      <td>134.766305</td>\n",
       "      <td>383695.412089</td>\n",
       "    </tr>\n",
       "    <tr>\n",
       "      <th>3</th>\n",
       "      <td>-13.081196</td>\n",
       "      <td>-11.506057</td>\n",
       "      <td>4.999415</td>\n",
       "      <td>137.945408</td>\n",
       "      <td>758793.489998</td>\n",
       "    </tr>\n",
       "    <tr>\n",
       "      <th>4</th>\n",
       "      <td>12.702195</td>\n",
       "      <td>-8.147433</td>\n",
       "      <td>5.004363</td>\n",
       "      <td>134.766305</td>\n",
       "      <td>693164.910318</td>\n",
       "    </tr>\n",
       "  </tbody>\n",
       "</table>\n",
       "</div>"
      ],
      "text/plain": [
       "          f0         f1        f2     product        revenue\n",
       "0 -15.001348  -8.276000 -0.005876    3.179103  473760.278296\n",
       "1  14.272088  -3.475083  0.999183   26.953261  328669.876193\n",
       "2   6.263187  -5.948386  5.001160  134.766305  383695.412089\n",
       "3 -13.081196 -11.506057  4.999415  137.945408  758793.489998\n",
       "4  12.702195  -8.147433  5.004363  134.766305  693164.910318"
      ]
     },
     "metadata": {},
     "output_type": "display_data"
    },
    {
     "data": {
      "text/html": [
       "<div>\n",
       "<style scoped>\n",
       "    .dataframe tbody tr th:only-of-type {\n",
       "        vertical-align: middle;\n",
       "    }\n",
       "\n",
       "    .dataframe tbody tr th {\n",
       "        vertical-align: top;\n",
       "    }\n",
       "\n",
       "    .dataframe thead th {\n",
       "        text-align: right;\n",
       "    }\n",
       "</style>\n",
       "<table border=\"1\" class=\"dataframe\">\n",
       "  <thead>\n",
       "    <tr style=\"text-align: right;\">\n",
       "      <th></th>\n",
       "      <th>f0</th>\n",
       "      <th>f1</th>\n",
       "      <th>f2</th>\n",
       "      <th>product</th>\n",
       "      <th>revenue</th>\n",
       "    </tr>\n",
       "  </thead>\n",
       "  <tbody>\n",
       "    <tr>\n",
       "      <th>0</th>\n",
       "      <td>-1.146987</td>\n",
       "      <td>0.963328</td>\n",
       "      <td>-0.828965</td>\n",
       "      <td>27.758673</td>\n",
       "      <td>473760.278296</td>\n",
       "    </tr>\n",
       "    <tr>\n",
       "      <th>1</th>\n",
       "      <td>0.262778</td>\n",
       "      <td>0.269839</td>\n",
       "      <td>-2.530187</td>\n",
       "      <td>56.069697</td>\n",
       "      <td>328669.876193</td>\n",
       "    </tr>\n",
       "    <tr>\n",
       "      <th>2</th>\n",
       "      <td>0.194587</td>\n",
       "      <td>0.289035</td>\n",
       "      <td>-5.586433</td>\n",
       "      <td>62.871910</td>\n",
       "      <td>383695.412089</td>\n",
       "    </tr>\n",
       "    <tr>\n",
       "      <th>3</th>\n",
       "      <td>2.236060</td>\n",
       "      <td>-0.553760</td>\n",
       "      <td>0.930038</td>\n",
       "      <td>114.572842</td>\n",
       "      <td>758793.489998</td>\n",
       "    </tr>\n",
       "    <tr>\n",
       "      <th>4</th>\n",
       "      <td>-0.515993</td>\n",
       "      <td>1.716266</td>\n",
       "      <td>5.899011</td>\n",
       "      <td>149.600746</td>\n",
       "      <td>693164.910318</td>\n",
       "    </tr>\n",
       "  </tbody>\n",
       "</table>\n",
       "</div>"
      ],
      "text/plain": [
       "         f0        f1        f2     product        revenue\n",
       "0 -1.146987  0.963328 -0.828965   27.758673  473760.278296\n",
       "1  0.262778  0.269839 -2.530187   56.069697  328669.876193\n",
       "2  0.194587  0.289035 -5.586433   62.871910  383695.412089\n",
       "3  2.236060 -0.553760  0.930038  114.572842  758793.489998\n",
       "4 -0.515993  1.716266  5.899011  149.600746  693164.910318"
      ]
     },
     "metadata": {},
     "output_type": "display_data"
    },
    {
     "name": "stdout",
     "output_type": "stream",
     "text": [
      "4500\n",
      "500000.0\n"
     ]
    }
   ],
   "source": [
    "#Store all key values for calculations in separate variables\n",
    "revenue_per_unit = 4500\n",
    "cost = 100000000/200\n",
    "geo_0['revenue'] = geo_0['product'] * revenue_per_unit\n",
    "geo_1['revenue'] = geo_0['product'] * revenue_per_unit\n",
    "geo_2['revenue'] = geo_0['product'] * revenue_per_unit\n",
    "display(geo_0.head(5))\n",
    "display(geo_1.head(5))\n",
    "display(geo_2.head(5))\n",
    "print(revenue_per_unit)\n",
    "print(cost)"
   ]
  },
  {
   "cell_type": "code",
   "execution_count": 22,
   "metadata": {
    "trusted": true
   },
   "outputs": [
    {
     "name": "stdout",
     "output_type": "stream",
     "text": [
      "If each well costs 500,000 USD to make, a well must make at least 111.11111111111111 thousands of barrels of oil to \n",
      "make that money back\n",
      "The average volume of oil in thousands of barrels produced in region 0 is 92.50000000000001\n",
      "The average volume of oil in thousands of barrels produced in region 1 is 68.82500000000002\n",
      "The average volume of oil in thousands of barrels produced in region 2 is 95.00000000000004\n"
     ]
    }
   ],
   "source": [
    "#Calculate the volume of reserves sufficient for developing a new well without losses\n",
    "volume_no_loss = cost/revenue_per_unit\n",
    "print(f'If each well costs 500,000 USD to make, a well must make at least {volume_no_loss} thousands of barrels of oil to \\nmake that money back')\n",
    "\n",
    "#Compare the obtained value with the average volume of reserves in each region\n",
    "geo_0_product_avg = geo_0['product'].mean()\n",
    "print(f'The average volume of oil in thousands of barrels produced in region 0 is {geo_0_product_avg}')\n",
    "geo_1_product_avg = geo_1['product'].mean()\n",
    "print(f'The average volume of oil in thousands of barrels produced in region 1 is {geo_1_product_avg}')\n",
    "geo_2_product_avg = geo_2['product'].mean()\n",
    "print(f'The average volume of oil in thousands of barrels produced in region 2 is {geo_2_product_avg}')"
   ]
  },
  {
   "cell_type": "markdown",
   "metadata": {},
   "source": [
    "Looking at these average amounts, it does not seem that any region is overall meeting the standard for profit. However, since 200 wells are in development, these calculation should actually be completed with only the top 200 producing wells in each region. "
   ]
  },
  {
   "cell_type": "code",
   "execution_count": 23,
   "metadata": {
    "trusted": true
   },
   "outputs": [
    {
     "name": "stdout",
     "output_type": "stream",
     "text": [
      "<class 'pandas.core.frame.DataFrame'>\n",
      "Int64Index: 200 entries, 8826 to 79494\n",
      "Data columns (total 5 columns):\n",
      " #   Column   Non-Null Count  Dtype  \n",
      "---  ------   --------------  -----  \n",
      " 0   f0       200 non-null    float64\n",
      " 1   f1       200 non-null    float64\n",
      " 2   f2       200 non-null    float64\n",
      " 3   product  200 non-null    float64\n",
      " 4   revenue  200 non-null    float64\n",
      "dtypes: float64(5)\n",
      "memory usage: 9.4 KB\n"
     ]
    },
    {
     "data": {
      "text/plain": [
       "None"
      ]
     },
     "metadata": {},
     "output_type": "display_data"
    },
    {
     "name": "stdout",
     "output_type": "stream",
     "text": [
      "<class 'pandas.core.frame.DataFrame'>\n",
      "Int64Index: 200 entries, 53864 to 16041\n",
      "Data columns (total 5 columns):\n",
      " #   Column   Non-Null Count  Dtype  \n",
      "---  ------   --------------  -----  \n",
      " 0   f0       200 non-null    float64\n",
      " 1   f1       200 non-null    float64\n",
      " 2   f2       200 non-null    float64\n",
      " 3   product  200 non-null    float64\n",
      " 4   revenue  200 non-null    float64\n",
      "dtypes: float64(5)\n",
      "memory usage: 9.4 KB\n"
     ]
    },
    {
     "data": {
      "text/plain": [
       "None"
      ]
     },
     "metadata": {},
     "output_type": "display_data"
    },
    {
     "name": "stdout",
     "output_type": "stream",
     "text": [
      "<class 'pandas.core.frame.DataFrame'>\n",
      "Int64Index: 200 entries, 79705 to 51559\n",
      "Data columns (total 5 columns):\n",
      " #   Column   Non-Null Count  Dtype  \n",
      "---  ------   --------------  -----  \n",
      " 0   f0       200 non-null    float64\n",
      " 1   f1       200 non-null    float64\n",
      " 2   f2       200 non-null    float64\n",
      " 3   product  200 non-null    float64\n",
      " 4   revenue  200 non-null    float64\n",
      "dtypes: float64(5)\n",
      "memory usage: 9.4 KB\n"
     ]
    },
    {
     "data": {
      "text/plain": [
       "None"
      ]
     },
     "metadata": {},
     "output_type": "display_data"
    },
    {
     "name": "stdout",
     "output_type": "stream",
     "text": [
      "If each well costs 500,000 USD to make, a well must make at least 111.11111111111111 thousands of barrels of oil to \n",
      "make that money back\n",
      "The average volume of oil in thousands of barrels produced in region 0 is 184.83373964536008\n",
      "The average volume of oil in thousands of barrels produced in region 1 is 137.9454077409057\n",
      "The average volume of oil in thousands of barrels produced in region 2 is 189.55147698176646\n"
     ]
    }
   ],
   "source": [
    "#geo_0 top 200 producing wells \n",
    "geo_0_sorted = geo_0.sort_values(by='product', ascending=False).head(200)\n",
    "display(geo_0_sorted.info())\n",
    "\n",
    "#geo_1 top 200 producing wells \n",
    "geo_1_sorted = geo_1.sort_values(by='product', ascending=False).head(200)\n",
    "display(geo_1_sorted.info())\n",
    "\n",
    "#geo_2 top 200 producing wells \n",
    "geo_2_sorted = geo_2.sort_values(by='product', ascending=False).head(200)\n",
    "display(geo_2_sorted.info())\n",
    "\n",
    "#Compare the obtained value with the average volume of reserves in each region\n",
    "print(f'If each well costs 500,000 USD to make, a well must make at least {volume_no_loss} thousands of barrels of oil to \\nmake that money back')\n",
    "geo_0_product_avg = geo_0_sorted['product'].mean()\n",
    "print(f'The average volume of oil in thousands of barrels produced in region 0 is {geo_0_product_avg}')\n",
    "geo_1_product_avg = geo_1_sorted['product'].mean()\n",
    "print(f'The average volume of oil in thousands of barrels produced in region 1 is {geo_1_product_avg}')\n",
    "geo_2_product_avg = geo_2_sorted['product'].mean()\n",
    "print(f'The average volume of oil in thousands of barrels produced in region 2 is {geo_2_product_avg}')"
   ]
  },
  {
   "cell_type": "markdown",
   "metadata": {},
   "source": [
    "Given this updated information, the top producing wells in all three regions are producing the amount of oil necessary to turn a profit. Region 0 and region 2 are both higher producing than region 1 with region 2 producing slightly more oil overall. "
   ]
  },
  {
   "cell_type": "markdown",
   "metadata": {},
   "source": [
    "## Profit Calculation"
   ]
  },
  {
   "cell_type": "code",
   "execution_count": 24,
   "metadata": {
    "trusted": true
   },
   "outputs": [],
   "source": [
    "def profit(targets, predictions, wells_to_select=200, revenue_per_unit=4500, cost=500000):\n",
    "    targets = pd.Series(targets).reset_index(drop=True)\n",
    "    predictions = pd.Series(predictions).reset_index(drop=True)\n",
    "    #select top 200 wells\n",
    "    top_indices = predictions.sort_values(ascending=False).head(wells_to_select).index\n",
    "    selected_volumes = targets.iloc[top_indices]\n",
    "    #calculate profit\n",
    "    total_revenue = selected_volumes.sum() * revenue_per_unit\n",
    "    total_cost = wells_to_select * cost\n",
    "    total_profit = total_revenue - total_cost\n",
    "\n",
    "    return total_profit"
   ]
  },
  {
   "cell_type": "code",
   "execution_count": 37,
   "metadata": {
    "trusted": true
   },
   "outputs": [
    {
     "name": "stdout",
     "output_type": "stream",
     "text": [
      "Estimated Total Profit for Region 0: $35,346,709.17\n",
      "Estimated Total Profit For Region 1: $24,150,866.97\n",
      "Estimated Total Profit For Region 2: $23,703,438.63\n"
     ]
    }
   ],
   "source": [
    "#use profit calculation for three regions\n",
    "#geo_0 profit\n",
    "result_0 = profit(g0_y_val, g0_pred_val)\n",
    "print(f\"Estimated Total Profit for Region 0: ${result_0:,.2f}\")\n",
    "\n",
    "#geo_1 profit\n",
    "result_1 = profit(g1_y_val, g1_pred_val)\n",
    "print(f\"Estimated Total Profit For Region 1: ${result_1:,.2f}\")\n",
    "\n",
    "#geo_2 profit\n",
    "result_2 = profit(g2_y_val, g2_pred_val)\n",
    "print(f\"Estimated Total Profit For Region 2: ${result_2:,.2f}\")"
   ]
  },
  {
   "cell_type": "markdown",
   "metadata": {},
   "source": [
    "Of the 200 wells in each region that are predicted to produce the highest volume of oil, the region that has the highest profit from these well is region 0. It is predicted that this well will outperform both other regions by nearly 10 million dollars. However high RMSE value for the model for region 0 does cast some doubt as to how reliable these predictions might be."
   ]
  },
  {
   "cell_type": "markdown",
   "metadata": {},
   "source": [
    "## Calculate Risks and Profit for Each Region"
   ]
  },
  {
   "cell_type": "code",
   "execution_count": 38,
   "metadata": {
    "trusted": true
   },
   "outputs": [],
   "source": [
    "#create bootstrapping function\n",
    "def bootstrap_profits(targets, predictions, n_iterations=1000, sample_size=500):\n",
    "    \n",
    "    targets = np.array(targets)\n",
    "    predictions = np.array(predictions)\n",
    "    profits = []\n",
    "\n",
    "    for i in range(n_iterations):\n",
    "        sample_indices = np.random.choice(len(targets), size=sample_size, replace=True)\n",
    "\n",
    "        #boostrap\n",
    "        sample_targets = targets[sample_indices]\n",
    "        sample_predictions = predictions[sample_indices]\n",
    "\n",
    "        #profit\n",
    "        p = profit(sample_targets, sample_predictions)\n",
    "        profits.append(p)\n",
    "\n",
    "    return profits"
   ]
  },
  {
   "cell_type": "markdown",
   "metadata": {},
   "source": [
    "## a) Geo 0 -Distribution of Profit"
   ]
  },
  {
   "cell_type": "code",
   "execution_count": 30,
   "metadata": {
    "trusted": true
   },
   "outputs": [
    {
     "name": "stdout",
     "output_type": "stream",
     "text": [
      "Mean profit: 4,788,216.97\n",
      "95% Confidence Interval: [-345,322.45, 9,891,383.35]\n"
     ]
    }
   ],
   "source": [
    "g0_bootstrap_profits = bootstrap_profits(g0_y_val, g0_pred_val)\n",
    "print(f\"Mean profit: {np.mean(g0_bootstrap_profits):,.2f}\")\n",
    "print(f\"95% Confidence Interval: [{np.percentile(g0_bootstrap_profits, 2.5):,.2f}, {np.percentile(g0_bootstrap_profits, 97.5):,.2f}]\")"
   ]
  },
  {
   "cell_type": "markdown",
   "metadata": {},
   "source": [
    "## b) Geo 1 - Distribution of Profit"
   ]
  },
  {
   "cell_type": "code",
   "execution_count": 31,
   "metadata": {
    "trusted": true
   },
   "outputs": [
    {
     "name": "stdout",
     "output_type": "stream",
     "text": [
      "Mean profit: 4,625,780.79\n",
      "95% Confidence Interval: [824,296.79, 8,658,676.77]\n"
     ]
    }
   ],
   "source": [
    "g1_bootstrap_profits = bootstrap_profits(g1_y_val, g1_pred_val)\n",
    "print(f\"Mean profit: {np.mean(g1_bootstrap_profits):,.2f}\")\n",
    "print(f\"95% Confidence Interval: [{np.percentile(g1_bootstrap_profits, 2.5):,.2f}, {np.percentile(g1_bootstrap_profits, 97.5):,.2f}]\")"
   ]
  },
  {
   "cell_type": "markdown",
   "metadata": {},
   "source": [
    "## c) Geo 2 - Distribution of Profit"
   ]
  },
  {
   "cell_type": "code",
   "execution_count": 32,
   "metadata": {
    "trusted": true
   },
   "outputs": [
    {
     "name": "stdout",
     "output_type": "stream",
     "text": [
      "Mean profit: 3,409,944.01\n",
      "95% Confidence Interval: [-1,468,770.59, 8,790,267.15]\n"
     ]
    }
   ],
   "source": [
    "g2_bootstrap_profits = bootstrap_profits(g2_y_val, g2_pred_val)\n",
    "print(f\"Mean profit: {np.mean(g2_bootstrap_profits):,.2f}\")\n",
    "print(f\"95% Confidence Interval: [{np.percentile(g2_bootstrap_profits, 2.5):,.2f}, {np.percentile(g2_bootstrap_profits, 97.5):,.2f}]\")"
   ]
  },
  {
   "cell_type": "markdown",
   "metadata": {},
   "source": [
    "Looking at the bootstrapping data, region 0 has the highest mean profit. However it also has a negative number at the lower end of its confidence interval, meaning that there is a chance that the average profit could be negative, making these wells actually a net loss. Looking at the bootstrap profit distributions as they stand, I would suggest region 1, as it is the only region with a confidence interval that is fully positive and therefore liekly to make money consistently. This model also has the lowest RMSE value of the three regions, meaning this prediction is the most likely to be accurate of the three regions."
   ]
  },
  {
   "cell_type": "markdown",
   "metadata": {},
   "source": [
    "## a) Geo 0 - Risk of Losses"
   ]
  },
  {
   "cell_type": "code",
   "execution_count": 34,
   "metadata": {
    "trusted": true
   },
   "outputs": [
    {
     "name": "stdout",
     "output_type": "stream",
     "text": [
      "Risk of Losses: 3.60%\n"
     ]
    }
   ],
   "source": [
    "#convert to numpy\n",
    "profits = np.array(g0_bootstrap_profits)\n",
    "#count/calculate portion of losses\n",
    "losses = profits < 0\n",
    "risk_of_loss = losses.mean() * 100  # Convert to percentage\n",
    "\n",
    "print(f\"Risk of Losses: {risk_of_loss:.2f}%\")"
   ]
  },
  {
   "cell_type": "markdown",
   "metadata": {},
   "source": [
    "## b) Geo 1 - Risk of Losses"
   ]
  },
  {
   "cell_type": "code",
   "execution_count": 35,
   "metadata": {
    "trusted": true
   },
   "outputs": [
    {
     "name": "stdout",
     "output_type": "stream",
     "text": [
      "Risk of Losses: 0.80%\n"
     ]
    }
   ],
   "source": [
    "#convert to numpy\n",
    "profits = np.array(g1_bootstrap_profits)\n",
    "#count/calculate portion of losses\n",
    "losses = profits < 0\n",
    "risk_of_loss = losses.mean() * 100  # Convert to percentage\n",
    "\n",
    "print(f\"Risk of Losses: {risk_of_loss:.2f}%\")"
   ]
  },
  {
   "cell_type": "markdown",
   "metadata": {},
   "source": [
    "## c) Geo 2 - Risk of Losses"
   ]
  },
  {
   "cell_type": "code",
   "execution_count": 36,
   "metadata": {
    "trusted": true
   },
   "outputs": [
    {
     "name": "stdout",
     "output_type": "stream",
     "text": [
      "Risk of Losses: 9.40%\n"
     ]
    }
   ],
   "source": [
    "#convert to numpy\n",
    "profits = np.array(g2_bootstrap_profits)\n",
    "#count/calculate portion of losses\n",
    "losses = profits < 0\n",
    "risk_of_loss = losses.mean() * 100  # Convert to percentage\n",
    "\n",
    "print(f\"Risk of Losses: {risk_of_loss:.2f}%\")"
   ]
  },
  {
   "cell_type": "markdown",
   "metadata": {},
   "source": [
    "Of the three regions, region 1 is the region with the lowest risk of loss and the only one to meet project standards in this category."
   ]
  },
  {
   "cell_type": "markdown",
   "metadata": {},
   "source": [
    "## Conclusion"
   ]
  },
  {
   "cell_type": "markdown",
   "metadata": {},
   "source": [
    "Looking at the data for OilyGiant, it seems that the best region for developmemnt is region 1. The model for region 1 had the lowest RMSE scores and therefore is considered the most accurate of the three. While the initial prpfit calculated was highest for region 0, the unpredictable model makes it hard to rely on its findings, and region 1 is the best performing after that. The bootstrap distribution of profit only yielded consistent profit for this region. Lastly the risk of loss was the lowest. Given all of this information, region 1 seems the best option for development and money investment.\n",
    "\n",
    "The largest issue with this analysis is the uncertainty with predicted values as the RMSE was large for regions 0 and 2. This makes values such as profit that were calculated based on predicted values less reliable. Further modeling would be needed to run profit calculations on those values with more confidence. "
   ]
  }
 ],
 "metadata": {
  "ExecuteTimeLog": [
   {
    "duration": 317,
    "start_time": "2025-04-04T16:44:14.040Z"
   },
   {
    "duration": 555,
    "start_time": "2025-04-04T16:44:14.602Z"
   },
   {
    "duration": 60,
    "start_time": "2025-04-04T16:44:23.229Z"
   },
   {
    "duration": 68,
    "start_time": "2025-04-04T16:44:27.859Z"
   },
   {
    "duration": 106,
    "start_time": "2025-04-04T16:46:57.651Z"
   },
   {
    "duration": 281,
    "start_time": "2025-04-04T16:47:28.741Z"
   },
   {
    "duration": 318,
    "start_time": "2025-04-04T18:15:11.800Z"
   },
   {
    "duration": 293,
    "start_time": "2025-04-04T18:15:12.263Z"
   },
   {
    "duration": 15,
    "start_time": "2025-04-04T18:16:12.374Z"
   },
   {
    "duration": 20,
    "start_time": "2025-04-04T18:17:40.329Z"
   },
   {
    "duration": 28,
    "start_time": "2025-04-04T18:25:08.212Z"
   },
   {
    "duration": 606,
    "start_time": "2025-04-04T18:28:28.031Z"
   },
   {
    "duration": 319,
    "start_time": "2025-04-04T18:29:16.291Z"
   },
   {
    "duration": 237,
    "start_time": "2025-04-04T18:29:16.612Z"
   },
   {
    "duration": 63,
    "start_time": "2025-04-04T18:29:16.850Z"
   },
   {
    "duration": 2,
    "start_time": "2025-04-04T18:29:16.915Z"
   },
   {
    "duration": 2,
    "start_time": "2025-04-04T18:29:16.919Z"
   },
   {
    "duration": 3,
    "start_time": "2025-04-04T18:29:16.923Z"
   },
   {
    "duration": 2,
    "start_time": "2025-04-04T18:29:16.928Z"
   },
   {
    "duration": 3,
    "start_time": "2025-04-04T18:29:16.932Z"
   },
   {
    "duration": 34,
    "start_time": "2025-04-04T18:29:16.936Z"
   },
   {
    "duration": 2,
    "start_time": "2025-04-04T18:29:16.972Z"
   },
   {
    "duration": 571,
    "start_time": "2025-04-04T18:30:12.832Z"
   },
   {
    "duration": 292,
    "start_time": "2025-04-04T18:30:23.415Z"
   },
   {
    "duration": 230,
    "start_time": "2025-04-04T18:30:23.710Z"
   },
   {
    "duration": 70,
    "start_time": "2025-04-04T18:30:23.946Z"
   },
   {
    "duration": 2,
    "start_time": "2025-04-04T18:30:24.018Z"
   },
   {
    "duration": 4,
    "start_time": "2025-04-04T18:30:24.021Z"
   },
   {
    "duration": 3,
    "start_time": "2025-04-04T18:30:24.026Z"
   },
   {
    "duration": 3,
    "start_time": "2025-04-04T18:30:24.031Z"
   },
   {
    "duration": 2,
    "start_time": "2025-04-04T18:30:24.037Z"
   },
   {
    "duration": 30,
    "start_time": "2025-04-04T18:30:24.041Z"
   },
   {
    "duration": 3,
    "start_time": "2025-04-04T18:30:24.073Z"
   },
   {
    "duration": 604,
    "start_time": "2025-04-04T18:31:23.997Z"
   },
   {
    "duration": 289,
    "start_time": "2025-04-04T18:31:29.727Z"
   },
   {
    "duration": 219,
    "start_time": "2025-04-04T18:31:30.019Z"
   },
   {
    "duration": 65,
    "start_time": "2025-04-04T18:31:30.241Z"
   },
   {
    "duration": 3,
    "start_time": "2025-04-04T18:31:30.307Z"
   },
   {
    "duration": 2,
    "start_time": "2025-04-04T18:31:30.312Z"
   },
   {
    "duration": 3,
    "start_time": "2025-04-04T18:31:30.316Z"
   },
   {
    "duration": 3,
    "start_time": "2025-04-04T18:31:30.320Z"
   },
   {
    "duration": 3,
    "start_time": "2025-04-04T18:31:30.325Z"
   },
   {
    "duration": 3,
    "start_time": "2025-04-04T18:31:30.330Z"
   },
   {
    "duration": 3,
    "start_time": "2025-04-04T18:31:30.335Z"
   },
   {
    "duration": 624,
    "start_time": "2025-04-04T18:31:41.993Z"
   },
   {
    "duration": 286,
    "start_time": "2025-04-04T18:31:47.734Z"
   },
   {
    "duration": 226,
    "start_time": "2025-04-04T18:31:48.022Z"
   },
   {
    "duration": 76,
    "start_time": "2025-04-04T18:31:48.253Z"
   },
   {
    "duration": 3,
    "start_time": "2025-04-04T18:31:48.330Z"
   },
   {
    "duration": 3,
    "start_time": "2025-04-04T18:31:48.335Z"
   },
   {
    "duration": 2,
    "start_time": "2025-04-04T18:31:48.340Z"
   },
   {
    "duration": 2,
    "start_time": "2025-04-04T18:31:48.371Z"
   },
   {
    "duration": 4,
    "start_time": "2025-04-04T18:31:48.374Z"
   },
   {
    "duration": 4,
    "start_time": "2025-04-04T18:31:48.381Z"
   },
   {
    "duration": 3,
    "start_time": "2025-04-04T18:31:48.386Z"
   },
   {
    "duration": 52,
    "start_time": "2025-04-04T18:32:38.666Z"
   },
   {
    "duration": 554,
    "start_time": "2025-04-04T18:33:28.186Z"
   },
   {
    "duration": 311,
    "start_time": "2025-04-04T18:34:16.295Z"
   },
   {
    "duration": 233,
    "start_time": "2025-04-04T18:34:16.608Z"
   },
   {
    "duration": 66,
    "start_time": "2025-04-04T18:34:16.843Z"
   },
   {
    "duration": 70,
    "start_time": "2025-04-04T18:34:16.911Z"
   },
   {
    "duration": 63,
    "start_time": "2025-04-04T18:34:16.984Z"
   },
   {
    "duration": 23,
    "start_time": "2025-04-04T18:34:17.049Z"
   },
   {
    "duration": 2,
    "start_time": "2025-04-04T18:34:17.074Z"
   },
   {
    "duration": 3,
    "start_time": "2025-04-04T18:34:17.078Z"
   },
   {
    "duration": 3,
    "start_time": "2025-04-04T18:34:17.082Z"
   },
   {
    "duration": 4,
    "start_time": "2025-04-04T18:34:17.086Z"
   },
   {
    "duration": 480,
    "start_time": "2025-04-04T18:39:31.627Z"
   },
   {
    "duration": 5,
    "start_time": "2025-04-04T18:39:34.042Z"
   },
   {
    "duration": 763,
    "start_time": "2025-04-04T18:44:50.697Z"
   },
   {
    "duration": 229,
    "start_time": "2025-04-04T18:44:51.463Z"
   },
   {
    "duration": 78,
    "start_time": "2025-04-04T18:44:51.693Z"
   },
   {
    "duration": 51,
    "start_time": "2025-04-04T18:44:51.773Z"
   },
   {
    "duration": 85,
    "start_time": "2025-04-04T18:44:51.826Z"
   },
   {
    "duration": 2,
    "start_time": "2025-04-04T18:44:51.912Z"
   },
   {
    "duration": 3,
    "start_time": "2025-04-04T18:44:51.916Z"
   },
   {
    "duration": 4,
    "start_time": "2025-04-04T18:44:51.920Z"
   },
   {
    "duration": 3,
    "start_time": "2025-04-04T18:44:51.925Z"
   },
   {
    "duration": 3,
    "start_time": "2025-04-04T18:44:51.930Z"
   },
   {
    "duration": 736,
    "start_time": "2025-04-04T18:45:58.722Z"
   },
   {
    "duration": 215,
    "start_time": "2025-04-04T18:45:59.460Z"
   },
   {
    "duration": 65,
    "start_time": "2025-04-04T18:45:59.676Z"
   },
   {
    "duration": 78,
    "start_time": "2025-04-04T18:45:59.743Z"
   },
   {
    "duration": 84,
    "start_time": "2025-04-04T18:45:59.824Z"
   },
   {
    "duration": 2,
    "start_time": "2025-04-04T18:45:59.910Z"
   },
   {
    "duration": 3,
    "start_time": "2025-04-04T18:45:59.913Z"
   },
   {
    "duration": 3,
    "start_time": "2025-04-04T18:45:59.918Z"
   },
   {
    "duration": 4,
    "start_time": "2025-04-04T18:45:59.922Z"
   },
   {
    "duration": 3,
    "start_time": "2025-04-04T18:45:59.928Z"
   },
   {
    "duration": 11,
    "start_time": "2025-04-04T18:47:48.089Z"
   },
   {
    "duration": 811,
    "start_time": "2025-04-04T18:58:21.226Z"
   },
   {
    "duration": 216,
    "start_time": "2025-04-04T18:58:22.039Z"
   },
   {
    "duration": 72,
    "start_time": "2025-04-04T18:58:22.257Z"
   },
   {
    "duration": 93,
    "start_time": "2025-04-04T18:58:22.331Z"
   },
   {
    "duration": 82,
    "start_time": "2025-04-04T18:58:22.428Z"
   },
   {
    "duration": 13,
    "start_time": "2025-04-04T18:58:22.512Z"
   },
   {
    "duration": 276,
    "start_time": "2025-04-04T18:58:22.526Z"
   },
   {
    "duration": 0,
    "start_time": "2025-04-04T18:58:22.804Z"
   },
   {
    "duration": 0,
    "start_time": "2025-04-04T18:58:22.805Z"
   },
   {
    "duration": 16,
    "start_time": "2025-04-04T18:58:41.468Z"
   },
   {
    "duration": 6,
    "start_time": "2025-04-04T18:58:45.624Z"
   },
   {
    "duration": 3,
    "start_time": "2025-04-04T19:02:27.616Z"
   },
   {
    "duration": 4,
    "start_time": "2025-04-04T19:03:10.433Z"
   },
   {
    "duration": 4,
    "start_time": "2025-04-04T19:03:38.663Z"
   },
   {
    "duration": 3,
    "start_time": "2025-04-04T19:11:42.887Z"
   },
   {
    "duration": 15,
    "start_time": "2025-04-04T19:16:45.421Z"
   },
   {
    "duration": 14,
    "start_time": "2025-04-04T19:16:46.705Z"
   },
   {
    "duration": 6,
    "start_time": "2025-04-04T19:16:47.583Z"
   },
   {
    "duration": 16,
    "start_time": "2025-04-04T19:30:24.475Z"
   },
   {
    "duration": 15,
    "start_time": "2025-04-04T19:30:54.358Z"
   },
   {
    "duration": 4,
    "start_time": "2025-04-04T19:31:31.004Z"
   },
   {
    "duration": 5,
    "start_time": "2025-04-04T19:31:45.631Z"
   },
   {
    "duration": 4,
    "start_time": "2025-04-04T19:31:55.976Z"
   },
   {
    "duration": 16,
    "start_time": "2025-04-04T19:33:43.456Z"
   },
   {
    "duration": 23,
    "start_time": "2025-04-04T19:35:33.814Z"
   },
   {
    "duration": 4,
    "start_time": "2025-04-04T19:36:09.587Z"
   },
   {
    "duration": 5,
    "start_time": "2025-04-04T19:39:09.972Z"
   },
   {
    "duration": 4,
    "start_time": "2025-04-04T19:39:26.085Z"
   },
   {
    "duration": 5,
    "start_time": "2025-04-04T19:39:33.637Z"
   },
   {
    "duration": 4,
    "start_time": "2025-04-04T19:39:51.615Z"
   },
   {
    "duration": 5,
    "start_time": "2025-04-04T19:40:38.246Z"
   },
   {
    "duration": 4,
    "start_time": "2025-04-04T19:40:57.503Z"
   },
   {
    "duration": 804,
    "start_time": "2025-04-08T17:56:19.112Z"
   },
   {
    "duration": 292,
    "start_time": "2025-04-08T17:56:19.919Z"
   },
   {
    "duration": 65,
    "start_time": "2025-04-08T17:56:20.213Z"
   },
   {
    "duration": 76,
    "start_time": "2025-04-08T17:56:20.280Z"
   },
   {
    "duration": 87,
    "start_time": "2025-04-08T17:56:20.359Z"
   },
   {
    "duration": 17,
    "start_time": "2025-04-08T17:56:20.448Z"
   },
   {
    "duration": 38,
    "start_time": "2025-04-08T17:56:20.467Z"
   },
   {
    "duration": 5,
    "start_time": "2025-04-08T17:56:20.507Z"
   },
   {
    "duration": 92,
    "start_time": "2025-04-08T17:56:20.514Z"
   },
   {
    "duration": 9,
    "start_time": "2025-04-08T17:56:20.607Z"
   },
   {
    "duration": 4,
    "start_time": "2025-04-08T17:56:20.618Z"
   },
   {
    "duration": 87,
    "start_time": "2025-04-08T17:56:20.625Z"
   },
   {
    "duration": 7,
    "start_time": "2025-04-08T17:56:20.714Z"
   },
   {
    "duration": 4,
    "start_time": "2025-04-08T17:56:20.724Z"
   },
   {
    "duration": 4,
    "start_time": "2025-04-08T18:17:27.195Z"
   },
   {
    "duration": 792,
    "start_time": "2025-04-09T16:09:08.776Z"
   },
   {
    "duration": 302,
    "start_time": "2025-04-09T16:09:09.570Z"
   },
   {
    "duration": 85,
    "start_time": "2025-04-09T16:09:09.874Z"
   },
   {
    "duration": 60,
    "start_time": "2025-04-09T16:09:09.961Z"
   },
   {
    "duration": 65,
    "start_time": "2025-04-09T16:09:10.044Z"
   },
   {
    "duration": 33,
    "start_time": "2025-04-09T16:09:10.110Z"
   },
   {
    "duration": 16,
    "start_time": "2025-04-09T16:09:10.145Z"
   },
   {
    "duration": 5,
    "start_time": "2025-04-09T16:09:10.162Z"
   },
   {
    "duration": 98,
    "start_time": "2025-04-09T16:09:10.169Z"
   },
   {
    "duration": 8,
    "start_time": "2025-04-09T16:09:10.269Z"
   },
   {
    "duration": 4,
    "start_time": "2025-04-09T16:09:10.279Z"
   },
   {
    "duration": 76,
    "start_time": "2025-04-09T16:09:10.285Z"
   },
   {
    "duration": 80,
    "start_time": "2025-04-09T16:09:10.363Z"
   },
   {
    "duration": 6,
    "start_time": "2025-04-09T16:09:10.446Z"
   },
   {
    "duration": 2,
    "start_time": "2025-04-09T16:09:10.454Z"
   },
   {
    "duration": 7,
    "start_time": "2025-04-09T16:12:36.375Z"
   },
   {
    "duration": 16,
    "start_time": "2025-04-09T16:13:22.092Z"
   },
   {
    "duration": 18,
    "start_time": "2025-04-09T16:14:00.008Z"
   },
   {
    "duration": 3,
    "start_time": "2025-04-09T16:22:01.512Z"
   },
   {
    "duration": 6,
    "start_time": "2025-04-09T16:24:26.587Z"
   },
   {
    "duration": 3,
    "start_time": "2025-04-09T16:24:35.459Z"
   },
   {
    "duration": 4,
    "start_time": "2025-04-09T16:24:39.173Z"
   },
   {
    "duration": 3,
    "start_time": "2025-04-09T16:24:44.555Z"
   },
   {
    "duration": 3,
    "start_time": "2025-04-09T16:24:53.337Z"
   },
   {
    "duration": 4,
    "start_time": "2025-04-09T16:26:13.487Z"
   },
   {
    "duration": 5,
    "start_time": "2025-04-09T16:26:55.304Z"
   },
   {
    "duration": 21,
    "start_time": "2025-04-09T16:28:14.052Z"
   },
   {
    "duration": 5,
    "start_time": "2025-04-09T16:28:26.177Z"
   },
   {
    "duration": 5,
    "start_time": "2025-04-09T16:29:22.837Z"
   },
   {
    "duration": 26,
    "start_time": "2025-04-09T16:36:14.143Z"
   },
   {
    "duration": 23,
    "start_time": "2025-04-09T16:37:31.723Z"
   },
   {
    "duration": 57,
    "start_time": "2025-04-09T16:38:32.356Z"
   },
   {
    "duration": 56,
    "start_time": "2025-04-09T16:40:03.478Z"
   },
   {
    "duration": 779,
    "start_time": "2025-04-09T18:09:55.098Z"
   },
   {
    "duration": 240,
    "start_time": "2025-04-09T18:09:55.879Z"
   },
   {
    "duration": 68,
    "start_time": "2025-04-09T18:09:56.120Z"
   },
   {
    "duration": 79,
    "start_time": "2025-04-09T18:09:56.189Z"
   },
   {
    "duration": 78,
    "start_time": "2025-04-09T18:09:56.271Z"
   },
   {
    "duration": 16,
    "start_time": "2025-04-09T18:09:56.351Z"
   },
   {
    "duration": 13,
    "start_time": "2025-04-09T18:09:56.369Z"
   },
   {
    "duration": 4,
    "start_time": "2025-04-09T18:09:56.385Z"
   },
   {
    "duration": 64,
    "start_time": "2025-04-09T18:09:56.391Z"
   },
   {
    "duration": 9,
    "start_time": "2025-04-09T18:09:56.457Z"
   },
   {
    "duration": 75,
    "start_time": "2025-04-09T18:09:56.468Z"
   },
   {
    "duration": 18,
    "start_time": "2025-04-09T18:09:56.546Z"
   },
   {
    "duration": 75,
    "start_time": "2025-04-09T18:09:56.567Z"
   },
   {
    "duration": 4,
    "start_time": "2025-04-09T18:09:56.646Z"
   },
   {
    "duration": 21,
    "start_time": "2025-04-09T18:09:56.651Z"
   },
   {
    "duration": 5,
    "start_time": "2025-04-09T18:09:56.743Z"
   },
   {
    "duration": 63,
    "start_time": "2025-04-09T18:09:56.749Z"
   },
   {
    "duration": 247,
    "start_time": "2025-04-09T18:09:56.813Z"
   },
   {
    "duration": 0,
    "start_time": "2025-04-09T18:09:57.062Z"
   },
   {
    "duration": 0,
    "start_time": "2025-04-09T18:09:57.063Z"
   },
   {
    "duration": 0,
    "start_time": "2025-04-09T18:09:57.064Z"
   },
   {
    "duration": 3,
    "start_time": "2025-04-09T18:16:04.072Z"
   },
   {
    "duration": 7,
    "start_time": "2025-04-09T18:16:20.026Z"
   },
   {
    "duration": 3,
    "start_time": "2025-04-09T18:21:46.274Z"
   },
   {
    "duration": 23,
    "start_time": "2025-04-09T18:22:13.450Z"
   },
   {
    "duration": 9,
    "start_time": "2025-04-09T18:23:20.606Z"
   },
   {
    "duration": 10,
    "start_time": "2025-04-09T18:23:26.715Z"
   },
   {
    "duration": 39,
    "start_time": "2025-04-09T18:25:39.637Z"
   },
   {
    "duration": 3,
    "start_time": "2025-04-09T18:26:36.597Z"
   },
   {
    "duration": 3,
    "start_time": "2025-04-09T18:26:51.798Z"
   },
   {
    "duration": 22,
    "start_time": "2025-04-09T18:26:54.382Z"
   },
   {
    "duration": 6,
    "start_time": "2025-04-09T18:34:21.965Z"
   },
   {
    "duration": 6,
    "start_time": "2025-04-09T18:35:05.267Z"
   },
   {
    "duration": 8,
    "start_time": "2025-04-09T18:35:42.795Z"
   },
   {
    "duration": 5,
    "start_time": "2025-04-09T18:35:59.463Z"
   },
   {
    "duration": 754,
    "start_time": "2025-04-09T18:36:12.794Z"
   },
   {
    "duration": 227,
    "start_time": "2025-04-09T18:36:13.551Z"
   },
   {
    "duration": 75,
    "start_time": "2025-04-09T18:36:13.779Z"
   },
   {
    "duration": 62,
    "start_time": "2025-04-09T18:36:13.855Z"
   },
   {
    "duration": 82,
    "start_time": "2025-04-09T18:36:13.920Z"
   },
   {
    "duration": 15,
    "start_time": "2025-04-09T18:36:14.003Z"
   },
   {
    "duration": 32,
    "start_time": "2025-04-09T18:36:14.019Z"
   },
   {
    "duration": 4,
    "start_time": "2025-04-09T18:36:14.052Z"
   },
   {
    "duration": 86,
    "start_time": "2025-04-09T18:36:14.058Z"
   },
   {
    "duration": 8,
    "start_time": "2025-04-09T18:36:14.145Z"
   },
   {
    "duration": 4,
    "start_time": "2025-04-09T18:36:14.154Z"
   },
   {
    "duration": 89,
    "start_time": "2025-04-09T18:36:14.160Z"
   },
   {
    "duration": 8,
    "start_time": "2025-04-09T18:36:14.251Z"
   },
   {
    "duration": 5,
    "start_time": "2025-04-09T18:36:14.262Z"
   },
   {
    "duration": 93,
    "start_time": "2025-04-09T18:36:14.269Z"
   },
   {
    "duration": 5,
    "start_time": "2025-04-09T18:36:14.364Z"
   },
   {
    "duration": 127,
    "start_time": "2025-04-09T18:36:14.370Z"
   },
   {
    "duration": 3,
    "start_time": "2025-04-09T18:36:14.499Z"
   },
   {
    "duration": 7,
    "start_time": "2025-04-09T18:36:14.504Z"
   },
   {
    "duration": 3,
    "start_time": "2025-04-09T18:36:14.513Z"
   },
   {
    "duration": 22,
    "start_time": "2025-04-09T18:36:14.542Z"
   },
   {
    "duration": 4,
    "start_time": "2025-04-09T18:36:14.565Z"
   },
   {
    "duration": 6,
    "start_time": "2025-04-09T18:36:14.571Z"
   },
   {
    "duration": 2,
    "start_time": "2025-04-09T18:36:14.578Z"
   },
   {
    "duration": 4,
    "start_time": "2025-04-09T18:37:10.193Z"
   },
   {
    "duration": 4,
    "start_time": "2025-04-09T18:37:16.339Z"
   },
   {
    "duration": 3,
    "start_time": "2025-04-09T18:46:00.884Z"
   },
   {
    "duration": 11,
    "start_time": "2025-04-09T18:47:22.272Z"
   },
   {
    "duration": 4,
    "start_time": "2025-04-09T18:47:24.061Z"
   },
   {
    "duration": 5,
    "start_time": "2025-04-09T18:47:42.870Z"
   },
   {
    "duration": 9,
    "start_time": "2025-04-09T18:47:44.250Z"
   },
   {
    "duration": 9,
    "start_time": "2025-04-09T18:47:56.387Z"
   },
   {
    "duration": 4,
    "start_time": "2025-04-09T18:47:56.952Z"
   },
   {
    "duration": 51,
    "start_time": "2025-04-09T18:50:32.891Z"
   },
   {
    "duration": 6,
    "start_time": "2025-04-09T18:50:51.202Z"
   },
   {
    "duration": 5,
    "start_time": "2025-04-09T18:50:54.669Z"
   },
   {
    "duration": 4,
    "start_time": "2025-04-09T18:50:55.613Z"
   },
   {
    "duration": 7,
    "start_time": "2025-04-09T18:51:38.080Z"
   },
   {
    "duration": 6,
    "start_time": "2025-04-09T18:51:41.066Z"
   },
   {
    "duration": 7,
    "start_time": "2025-04-09T18:52:03.717Z"
   },
   {
    "duration": 5,
    "start_time": "2025-04-09T18:52:06.753Z"
   },
   {
    "duration": 9,
    "start_time": "2025-04-09T18:56:55.068Z"
   },
   {
    "duration": 2448,
    "start_time": "2025-04-09T18:57:00.900Z"
   },
   {
    "duration": 107,
    "start_time": "2025-04-09T18:57:24.097Z"
   },
   {
    "duration": 103,
    "start_time": "2025-04-09T18:57:31.672Z"
   },
   {
    "duration": 6,
    "start_time": "2025-04-09T18:58:45.170Z"
   },
   {
    "duration": 94,
    "start_time": "2025-04-09T18:59:29.669Z"
   },
   {
    "duration": 109,
    "start_time": "2025-04-09T18:59:43.244Z"
   },
   {
    "duration": 91,
    "start_time": "2025-04-09T19:00:45.782Z"
   },
   {
    "duration": 92,
    "start_time": "2025-04-09T19:00:51.450Z"
   },
   {
    "duration": 3,
    "start_time": "2025-04-09T19:01:03.466Z"
   },
   {
    "duration": 3,
    "start_time": "2025-04-09T19:01:06.997Z"
   },
   {
    "duration": 96,
    "start_time": "2025-04-09T19:03:01.276Z"
   },
   {
    "duration": 11,
    "start_time": "2025-04-09T19:04:09.810Z"
   },
   {
    "duration": 14,
    "start_time": "2025-04-09T19:04:28.948Z"
   },
   {
    "duration": 94,
    "start_time": "2025-04-09T19:04:57.826Z"
   },
   {
    "duration": 90,
    "start_time": "2025-04-09T19:05:05.689Z"
   },
   {
    "duration": 10,
    "start_time": "2025-04-09T19:06:32.589Z"
   },
   {
    "duration": 491,
    "start_time": "2025-04-09T19:06:51.980Z"
   },
   {
    "duration": 95,
    "start_time": "2025-04-09T19:07:19.757Z"
   },
   {
    "duration": 1030,
    "start_time": "2025-04-09T19:07:48.630Z"
   },
   {
    "duration": 227,
    "start_time": "2025-04-09T19:07:49.662Z"
   },
   {
    "duration": 78,
    "start_time": "2025-04-09T19:07:49.891Z"
   },
   {
    "duration": 111,
    "start_time": "2025-04-09T19:07:49.970Z"
   },
   {
    "duration": 10,
    "start_time": "2025-04-09T19:07:50.084Z"
   },
   {
    "duration": 78,
    "start_time": "2025-04-09T19:07:50.095Z"
   },
   {
    "duration": 112,
    "start_time": "2025-04-09T19:07:50.174Z"
   },
   {
    "duration": 10,
    "start_time": "2025-04-09T19:07:50.288Z"
   },
   {
    "duration": 76,
    "start_time": "2025-04-09T19:07:50.300Z"
   },
   {
    "duration": 107,
    "start_time": "2025-04-09T19:07:50.378Z"
   },
   {
    "duration": 10,
    "start_time": "2025-04-09T19:07:50.488Z"
   },
   {
    "duration": 16,
    "start_time": "2025-04-09T19:07:50.499Z"
   },
   {
    "duration": 113,
    "start_time": "2025-04-09T19:07:50.516Z"
   },
   {
    "duration": 17,
    "start_time": "2025-04-09T19:07:50.634Z"
   },
   {
    "duration": 5,
    "start_time": "2025-04-09T19:07:50.652Z"
   },
   {
    "duration": 91,
    "start_time": "2025-04-09T19:07:50.659Z"
   },
   {
    "duration": 8,
    "start_time": "2025-04-09T19:07:50.752Z"
   },
   {
    "duration": 4,
    "start_time": "2025-04-09T19:07:50.762Z"
   },
   {
    "duration": 83,
    "start_time": "2025-04-09T19:07:50.767Z"
   },
   {
    "duration": 9,
    "start_time": "2025-04-09T19:07:50.852Z"
   },
   {
    "duration": 5,
    "start_time": "2025-04-09T19:07:50.862Z"
   },
   {
    "duration": 23,
    "start_time": "2025-04-09T19:07:50.944Z"
   },
   {
    "duration": 4,
    "start_time": "2025-04-09T19:07:50.969Z"
   },
   {
    "duration": 69,
    "start_time": "2025-04-09T19:07:51.042Z"
   },
   {
    "duration": 3,
    "start_time": "2025-04-09T19:07:51.113Z"
   },
   {
    "duration": 28,
    "start_time": "2025-04-09T19:07:51.118Z"
   },
   {
    "duration": 4,
    "start_time": "2025-04-09T19:07:51.147Z"
   },
   {
    "duration": 23,
    "start_time": "2025-04-09T19:07:51.152Z"
   },
   {
    "duration": 4,
    "start_time": "2025-04-09T19:07:51.177Z"
   },
   {
    "duration": 2,
    "start_time": "2025-04-09T19:07:51.183Z"
   },
   {
    "duration": 3,
    "start_time": "2025-04-09T19:14:29.166Z"
   },
   {
    "duration": 240,
    "start_time": "2025-04-09T19:17:38.349Z"
   },
   {
    "duration": 216,
    "start_time": "2025-04-09T19:18:00.938Z"
   },
   {
    "duration": 231,
    "start_time": "2025-04-09T19:19:50.231Z"
   },
   {
    "duration": 174,
    "start_time": "2025-04-09T19:21:38.178Z"
   },
   {
    "duration": 182,
    "start_time": "2025-04-09T19:21:52.671Z"
   },
   {
    "duration": 223,
    "start_time": "2025-04-09T19:22:19.227Z"
   },
   {
    "duration": 157,
    "start_time": "2025-04-09T19:22:55.695Z"
   },
   {
    "duration": 4,
    "start_time": "2025-04-09T19:28:50.772Z"
   },
   {
    "duration": 14,
    "start_time": "2025-04-09T19:44:06.197Z"
   },
   {
    "duration": 3,
    "start_time": "2025-04-09T19:45:54.349Z"
   },
   {
    "duration": 968,
    "start_time": "2025-04-09T19:56:26.315Z"
   },
   {
    "duration": 229,
    "start_time": "2025-04-09T19:56:27.286Z"
   },
   {
    "duration": 58,
    "start_time": "2025-04-09T19:56:27.516Z"
   },
   {
    "duration": 110,
    "start_time": "2025-04-09T19:56:27.575Z"
   },
   {
    "duration": 11,
    "start_time": "2025-04-09T19:56:27.688Z"
   },
   {
    "duration": 81,
    "start_time": "2025-04-09T19:56:27.700Z"
   },
   {
    "duration": 105,
    "start_time": "2025-04-09T19:56:27.783Z"
   },
   {
    "duration": 10,
    "start_time": "2025-04-09T19:56:27.889Z"
   },
   {
    "duration": 80,
    "start_time": "2025-04-09T19:56:27.901Z"
   },
   {
    "duration": 102,
    "start_time": "2025-04-09T19:56:27.983Z"
   },
   {
    "duration": 10,
    "start_time": "2025-04-09T19:56:28.089Z"
   },
   {
    "duration": 20,
    "start_time": "2025-04-09T19:56:28.100Z"
   },
   {
    "duration": 28,
    "start_time": "2025-04-09T19:56:28.123Z"
   },
   {
    "duration": 320,
    "start_time": "2025-04-09T19:56:28.154Z"
   },
   {
    "duration": 0,
    "start_time": "2025-04-09T19:56:28.476Z"
   },
   {
    "duration": 1,
    "start_time": "2025-04-09T19:56:28.476Z"
   },
   {
    "duration": 0,
    "start_time": "2025-04-09T19:56:28.477Z"
   },
   {
    "duration": 0,
    "start_time": "2025-04-09T19:56:28.479Z"
   },
   {
    "duration": 0,
    "start_time": "2025-04-09T19:56:28.481Z"
   },
   {
    "duration": 0,
    "start_time": "2025-04-09T19:56:28.482Z"
   },
   {
    "duration": 0,
    "start_time": "2025-04-09T19:56:28.483Z"
   },
   {
    "duration": 0,
    "start_time": "2025-04-09T19:56:28.486Z"
   },
   {
    "duration": 0,
    "start_time": "2025-04-09T19:56:28.487Z"
   },
   {
    "duration": 0,
    "start_time": "2025-04-09T19:56:28.489Z"
   },
   {
    "duration": 0,
    "start_time": "2025-04-09T19:56:28.490Z"
   },
   {
    "duration": 0,
    "start_time": "2025-04-09T19:56:28.491Z"
   },
   {
    "duration": 0,
    "start_time": "2025-04-09T19:56:28.492Z"
   },
   {
    "duration": 0,
    "start_time": "2025-04-09T19:56:28.493Z"
   },
   {
    "duration": 1012,
    "start_time": "2025-04-09T19:58:18.810Z"
   },
   {
    "duration": 229,
    "start_time": "2025-04-09T19:58:19.825Z"
   },
   {
    "duration": 59,
    "start_time": "2025-04-09T19:58:20.057Z"
   },
   {
    "duration": 117,
    "start_time": "2025-04-09T19:58:20.118Z"
   },
   {
    "duration": 18,
    "start_time": "2025-04-09T19:58:20.237Z"
   },
   {
    "duration": 59,
    "start_time": "2025-04-09T19:58:20.256Z"
   },
   {
    "duration": 117,
    "start_time": "2025-04-09T19:58:20.317Z"
   },
   {
    "duration": 12,
    "start_time": "2025-04-09T19:58:20.443Z"
   },
   {
    "duration": 61,
    "start_time": "2025-04-09T19:58:20.457Z"
   },
   {
    "duration": 105,
    "start_time": "2025-04-09T19:58:20.520Z"
   },
   {
    "duration": 20,
    "start_time": "2025-04-09T19:58:20.627Z"
   },
   {
    "duration": 19,
    "start_time": "2025-04-09T19:58:20.648Z"
   },
   {
    "duration": 14,
    "start_time": "2025-04-09T19:58:20.668Z"
   },
   {
    "duration": 367,
    "start_time": "2025-04-09T19:58:20.688Z"
   },
   {
    "duration": 0,
    "start_time": "2025-04-09T19:58:21.056Z"
   },
   {
    "duration": 0,
    "start_time": "2025-04-09T19:58:21.058Z"
   },
   {
    "duration": 0,
    "start_time": "2025-04-09T19:58:21.059Z"
   },
   {
    "duration": 0,
    "start_time": "2025-04-09T19:58:21.060Z"
   },
   {
    "duration": 0,
    "start_time": "2025-04-09T19:58:21.061Z"
   },
   {
    "duration": 0,
    "start_time": "2025-04-09T19:58:21.063Z"
   },
   {
    "duration": 0,
    "start_time": "2025-04-09T19:58:21.064Z"
   },
   {
    "duration": 0,
    "start_time": "2025-04-09T19:58:21.066Z"
   },
   {
    "duration": 0,
    "start_time": "2025-04-09T19:58:21.067Z"
   },
   {
    "duration": 0,
    "start_time": "2025-04-09T19:58:21.069Z"
   },
   {
    "duration": 0,
    "start_time": "2025-04-09T19:58:21.070Z"
   },
   {
    "duration": 0,
    "start_time": "2025-04-09T19:58:21.072Z"
   },
   {
    "duration": 0,
    "start_time": "2025-04-09T19:58:21.073Z"
   },
   {
    "duration": 0,
    "start_time": "2025-04-09T19:58:21.074Z"
   },
   {
    "duration": 3,
    "start_time": "2025-04-09T19:59:08.476Z"
   },
   {
    "duration": 1005,
    "start_time": "2025-04-09T20:00:16.183Z"
   },
   {
    "duration": 226,
    "start_time": "2025-04-09T20:00:17.191Z"
   },
   {
    "duration": 63,
    "start_time": "2025-04-09T20:00:17.419Z"
   },
   {
    "duration": 113,
    "start_time": "2025-04-09T20:00:17.485Z"
   },
   {
    "duration": 9,
    "start_time": "2025-04-09T20:00:17.600Z"
   },
   {
    "duration": 69,
    "start_time": "2025-04-09T20:00:17.612Z"
   },
   {
    "duration": 106,
    "start_time": "2025-04-09T20:00:17.683Z"
   },
   {
    "duration": 11,
    "start_time": "2025-04-09T20:00:17.791Z"
   },
   {
    "duration": 71,
    "start_time": "2025-04-09T20:00:17.804Z"
   },
   {
    "duration": 106,
    "start_time": "2025-04-09T20:00:17.879Z"
   },
   {
    "duration": 10,
    "start_time": "2025-04-09T20:00:17.987Z"
   },
   {
    "duration": 16,
    "start_time": "2025-04-09T20:00:17.998Z"
   },
   {
    "duration": 27,
    "start_time": "2025-04-09T20:00:18.016Z"
   },
   {
    "duration": 317,
    "start_time": "2025-04-09T20:00:18.044Z"
   },
   {
    "duration": 0,
    "start_time": "2025-04-09T20:00:18.363Z"
   },
   {
    "duration": 0,
    "start_time": "2025-04-09T20:00:18.365Z"
   },
   {
    "duration": 0,
    "start_time": "2025-04-09T20:00:18.367Z"
   },
   {
    "duration": 0,
    "start_time": "2025-04-09T20:00:18.368Z"
   },
   {
    "duration": 0,
    "start_time": "2025-04-09T20:00:18.370Z"
   },
   {
    "duration": 0,
    "start_time": "2025-04-09T20:00:18.371Z"
   },
   {
    "duration": 0,
    "start_time": "2025-04-09T20:00:18.372Z"
   },
   {
    "duration": 0,
    "start_time": "2025-04-09T20:00:18.374Z"
   },
   {
    "duration": 0,
    "start_time": "2025-04-09T20:00:18.375Z"
   },
   {
    "duration": 0,
    "start_time": "2025-04-09T20:00:18.376Z"
   },
   {
    "duration": 0,
    "start_time": "2025-04-09T20:00:18.377Z"
   },
   {
    "duration": 0,
    "start_time": "2025-04-09T20:00:18.379Z"
   },
   {
    "duration": 0,
    "start_time": "2025-04-09T20:00:18.381Z"
   },
   {
    "duration": 0,
    "start_time": "2025-04-09T20:00:18.382Z"
   },
   {
    "duration": 423,
    "start_time": "2025-04-09T20:01:30.122Z"
   },
   {
    "duration": 5042,
    "start_time": "2025-04-09T20:01:40.019Z"
   },
   {
    "duration": 6,
    "start_time": "2025-04-09T20:05:52.124Z"
   },
   {
    "duration": 6,
    "start_time": "2025-04-09T20:06:03.550Z"
   },
   {
    "duration": 5,
    "start_time": "2025-04-09T20:06:05.925Z"
   },
   {
    "duration": 9,
    "start_time": "2025-04-09T20:06:41.319Z"
   },
   {
    "duration": 5,
    "start_time": "2025-04-09T20:07:08.080Z"
   },
   {
    "duration": 1085,
    "start_time": "2025-04-09T20:07:16.497Z"
   },
   {
    "duration": 233,
    "start_time": "2025-04-09T20:07:17.586Z"
   },
   {
    "duration": 65,
    "start_time": "2025-04-09T20:07:17.821Z"
   },
   {
    "duration": 112,
    "start_time": "2025-04-09T20:07:17.888Z"
   },
   {
    "duration": 10,
    "start_time": "2025-04-09T20:07:18.003Z"
   },
   {
    "duration": 76,
    "start_time": "2025-04-09T20:07:18.015Z"
   },
   {
    "duration": 111,
    "start_time": "2025-04-09T20:07:18.093Z"
   },
   {
    "duration": 10,
    "start_time": "2025-04-09T20:07:18.206Z"
   },
   {
    "duration": 68,
    "start_time": "2025-04-09T20:07:18.218Z"
   },
   {
    "duration": 121,
    "start_time": "2025-04-09T20:07:18.288Z"
   },
   {
    "duration": 11,
    "start_time": "2025-04-09T20:07:18.411Z"
   },
   {
    "duration": 41,
    "start_time": "2025-04-09T20:07:18.423Z"
   },
   {
    "duration": 16,
    "start_time": "2025-04-09T20:07:18.467Z"
   },
   {
    "duration": 362,
    "start_time": "2025-04-09T20:07:18.487Z"
   },
   {
    "duration": 0,
    "start_time": "2025-04-09T20:07:18.851Z"
   },
   {
    "duration": 0,
    "start_time": "2025-04-09T20:07:18.853Z"
   },
   {
    "duration": 0,
    "start_time": "2025-04-09T20:07:18.854Z"
   },
   {
    "duration": 0,
    "start_time": "2025-04-09T20:07:18.855Z"
   },
   {
    "duration": 0,
    "start_time": "2025-04-09T20:07:18.855Z"
   },
   {
    "duration": 0,
    "start_time": "2025-04-09T20:07:18.857Z"
   },
   {
    "duration": 0,
    "start_time": "2025-04-09T20:07:18.858Z"
   },
   {
    "duration": 0,
    "start_time": "2025-04-09T20:07:18.859Z"
   },
   {
    "duration": 0,
    "start_time": "2025-04-09T20:07:18.860Z"
   },
   {
    "duration": 0,
    "start_time": "2025-04-09T20:07:18.861Z"
   },
   {
    "duration": 0,
    "start_time": "2025-04-09T20:07:18.862Z"
   },
   {
    "duration": 0,
    "start_time": "2025-04-09T20:07:18.863Z"
   },
   {
    "duration": 0,
    "start_time": "2025-04-09T20:07:18.864Z"
   },
   {
    "duration": 0,
    "start_time": "2025-04-09T20:07:18.865Z"
   },
   {
    "duration": 6,
    "start_time": "2025-04-09T20:09:48.214Z"
   },
   {
    "duration": 5177,
    "start_time": "2025-04-09T20:10:01.273Z"
   },
   {
    "duration": 5172,
    "start_time": "2025-04-09T20:11:48.589Z"
   },
   {
    "duration": 27,
    "start_time": "2025-04-09T20:13:19.308Z"
   },
   {
    "duration": 117,
    "start_time": "2025-04-09T20:14:51.046Z"
   },
   {
    "duration": 21,
    "start_time": "2025-04-09T20:15:58.765Z"
   },
   {
    "duration": 15,
    "start_time": "2025-04-09T20:16:09.837Z"
   },
   {
    "duration": 950,
    "start_time": "2025-04-09T20:16:20.720Z"
   },
   {
    "duration": 231,
    "start_time": "2025-04-09T20:16:21.673Z"
   },
   {
    "duration": 69,
    "start_time": "2025-04-09T20:16:21.911Z"
   },
   {
    "duration": 114,
    "start_time": "2025-04-09T20:16:21.982Z"
   },
   {
    "duration": 11,
    "start_time": "2025-04-09T20:16:22.100Z"
   },
   {
    "duration": 68,
    "start_time": "2025-04-09T20:16:22.113Z"
   },
   {
    "duration": 113,
    "start_time": "2025-04-09T20:16:22.184Z"
   },
   {
    "duration": 11,
    "start_time": "2025-04-09T20:16:22.298Z"
   },
   {
    "duration": 70,
    "start_time": "2025-04-09T20:16:22.312Z"
   },
   {
    "duration": 107,
    "start_time": "2025-04-09T20:16:22.384Z"
   },
   {
    "duration": 12,
    "start_time": "2025-04-09T20:16:22.493Z"
   },
   {
    "duration": 16,
    "start_time": "2025-04-09T20:16:22.509Z"
   },
   {
    "duration": 12,
    "start_time": "2025-04-09T20:16:22.543Z"
   },
   {
    "duration": 301,
    "start_time": "2025-04-09T20:16:22.556Z"
   },
   {
    "duration": 102,
    "start_time": "2025-04-09T20:16:22.859Z"
   },
   {
    "duration": 9,
    "start_time": "2025-04-09T20:16:22.963Z"
   },
   {
    "duration": 283,
    "start_time": "2025-04-09T20:16:22.973Z"
   },
   {
    "duration": 91,
    "start_time": "2025-04-09T20:16:23.258Z"
   },
   {
    "duration": 8,
    "start_time": "2025-04-09T20:16:23.350Z"
   },
   {
    "duration": 301,
    "start_time": "2025-04-09T20:16:23.359Z"
   },
   {
    "duration": 95,
    "start_time": "2025-04-09T20:16:23.662Z"
   },
   {
    "duration": 5,
    "start_time": "2025-04-09T20:16:23.758Z"
   },
   {
    "duration": 126,
    "start_time": "2025-04-09T20:16:23.764Z"
   },
   {
    "duration": 3,
    "start_time": "2025-04-09T20:16:23.892Z"
   },
   {
    "duration": 22,
    "start_time": "2025-04-09T20:16:23.897Z"
   },
   {
    "duration": 26,
    "start_time": "2025-04-09T20:16:23.920Z"
   },
   {
    "duration": 5,
    "start_time": "2025-04-09T20:16:23.947Z"
   },
   {
    "duration": 4897,
    "start_time": "2025-04-09T20:16:23.954Z"
   },
   {
    "duration": 4992,
    "start_time": "2025-04-09T20:16:28.853Z"
   },
   {
    "duration": 4615,
    "start_time": "2025-04-09T20:16:33.847Z"
   },
   {
    "duration": 4804,
    "start_time": "2025-04-09T20:17:53.353Z"
   },
   {
    "duration": 13,
    "start_time": "2025-04-09T20:28:35.286Z"
   },
   {
    "duration": 17,
    "start_time": "2025-04-09T20:28:43.137Z"
   },
   {
    "duration": 19,
    "start_time": "2025-04-09T20:28:47.928Z"
   },
   {
    "duration": 18,
    "start_time": "2025-04-09T20:29:35.971Z"
   },
   {
    "duration": 191,
    "start_time": "2025-04-09T20:30:52.659Z"
   },
   {
    "duration": 212,
    "start_time": "2025-04-09T20:34:29.653Z"
   },
   {
    "duration": 208,
    "start_time": "2025-04-09T20:35:39.836Z"
   },
   {
    "duration": 3,
    "start_time": "2025-04-09T20:45:56.224Z"
   },
   {
    "duration": 4,
    "start_time": "2025-04-09T20:49:10.948Z"
   },
   {
    "duration": 4,
    "start_time": "2025-04-09T20:49:21.640Z"
   },
   {
    "duration": 4,
    "start_time": "2025-04-09T20:49:26.443Z"
   },
   {
    "duration": 13,
    "start_time": "2025-04-09T20:50:46.184Z"
   },
   {
    "duration": 10,
    "start_time": "2025-04-09T20:51:17.415Z"
   },
   {
    "duration": 15,
    "start_time": "2025-04-09T20:52:37.512Z"
   },
   {
    "duration": 2749,
    "start_time": "2025-04-09T21:28:55.013Z"
   },
   {
    "duration": 304,
    "start_time": "2025-04-09T21:28:57.765Z"
   },
   {
    "duration": 56,
    "start_time": "2025-04-09T21:28:58.071Z"
   },
   {
    "duration": 117,
    "start_time": "2025-04-09T21:28:58.130Z"
   },
   {
    "duration": 22,
    "start_time": "2025-04-09T21:28:58.250Z"
   },
   {
    "duration": 53,
    "start_time": "2025-04-09T21:28:58.274Z"
   },
   {
    "duration": 109,
    "start_time": "2025-04-09T21:28:58.329Z"
   },
   {
    "duration": 10,
    "start_time": "2025-04-09T21:28:58.440Z"
   },
   {
    "duration": 69,
    "start_time": "2025-04-09T21:28:58.452Z"
   },
   {
    "duration": 111,
    "start_time": "2025-04-09T21:28:58.523Z"
   },
   {
    "duration": 10,
    "start_time": "2025-04-09T21:28:58.636Z"
   },
   {
    "duration": 29,
    "start_time": "2025-04-09T21:28:58.648Z"
   },
   {
    "duration": 14,
    "start_time": "2025-04-09T21:28:58.679Z"
   },
   {
    "duration": 377,
    "start_time": "2025-04-09T21:28:58.697Z"
   },
   {
    "duration": 20,
    "start_time": "2025-04-09T21:28:59.079Z"
   },
   {
    "duration": 8,
    "start_time": "2025-04-09T21:28:59.170Z"
   },
   {
    "duration": 299,
    "start_time": "2025-04-09T21:28:59.180Z"
   },
   {
    "duration": 96,
    "start_time": "2025-04-09T21:28:59.481Z"
   },
   {
    "duration": 8,
    "start_time": "2025-04-09T21:28:59.579Z"
   },
   {
    "duration": 300,
    "start_time": "2025-04-09T21:28:59.588Z"
   },
   {
    "duration": 95,
    "start_time": "2025-04-09T21:28:59.890Z"
   },
   {
    "duration": 4,
    "start_time": "2025-04-09T21:28:59.988Z"
   },
   {
    "duration": 128,
    "start_time": "2025-04-09T21:28:59.994Z"
   },
   {
    "duration": 3,
    "start_time": "2025-04-09T21:29:00.124Z"
   },
   {
    "duration": 43,
    "start_time": "2025-04-09T21:29:00.130Z"
   },
   {
    "duration": 5,
    "start_time": "2025-04-09T21:29:00.175Z"
   },
   {
    "duration": 4,
    "start_time": "2025-04-09T21:29:00.182Z"
   },
   {
    "duration": 225,
    "start_time": "2025-04-09T21:29:00.188Z"
   },
   {
    "duration": 255,
    "start_time": "2025-04-09T21:29:00.415Z"
   },
   {
    "duration": 193,
    "start_time": "2025-04-09T21:29:00.672Z"
   },
   {
    "duration": 10,
    "start_time": "2025-04-09T21:29:00.867Z"
   },
   {
    "duration": 11,
    "start_time": "2025-04-09T21:29:00.879Z"
   },
   {
    "duration": 14,
    "start_time": "2025-04-09T21:29:38.792Z"
   },
   {
    "duration": 12,
    "start_time": "2025-04-09T21:31:20.293Z"
   },
   {
    "duration": 144,
    "start_time": "2025-04-09T21:34:08.534Z"
   },
   {
    "duration": 11,
    "start_time": "2025-04-09T21:34:58.666Z"
   },
   {
    "duration": 12,
    "start_time": "2025-04-09T21:35:24.002Z"
   },
   {
    "duration": 15,
    "start_time": "2025-04-09T21:36:03.060Z"
   },
   {
    "duration": 11,
    "start_time": "2025-04-09T21:36:18.764Z"
   },
   {
    "duration": 8,
    "start_time": "2025-04-09T21:37:30.159Z"
   },
   {
    "duration": 16,
    "start_time": "2025-04-09T21:38:31.007Z"
   },
   {
    "duration": 14,
    "start_time": "2025-04-09T21:39:06.940Z"
   },
   {
    "duration": 14,
    "start_time": "2025-04-09T21:39:20.219Z"
   },
   {
    "duration": 13,
    "start_time": "2025-04-09T21:40:13.462Z"
   },
   {
    "duration": 12,
    "start_time": "2025-04-09T21:40:55.020Z"
   },
   {
    "duration": 12,
    "start_time": "2025-04-09T21:41:04.421Z"
   },
   {
    "duration": 11,
    "start_time": "2025-04-09T21:41:13.146Z"
   },
   {
    "duration": 4,
    "start_time": "2025-04-09T21:42:15.609Z"
   },
   {
    "duration": 11,
    "start_time": "2025-04-09T21:42:43.402Z"
   },
   {
    "duration": 17,
    "start_time": "2025-04-09T21:45:01.898Z"
   },
   {
    "duration": 16,
    "start_time": "2025-04-09T21:46:00.261Z"
   },
   {
    "duration": 13,
    "start_time": "2025-04-09T21:46:42.289Z"
   },
   {
    "duration": 6,
    "start_time": "2025-04-09T21:47:46.585Z"
   },
   {
    "duration": 14,
    "start_time": "2025-04-09T21:48:04.092Z"
   },
   {
    "duration": 14,
    "start_time": "2025-04-09T21:48:49.844Z"
   },
   {
    "duration": 1170,
    "start_time": "2025-04-09T22:12:27.356Z"
   },
   {
    "duration": 289,
    "start_time": "2025-04-09T22:12:28.529Z"
   },
   {
    "duration": 96,
    "start_time": "2025-04-09T22:12:28.826Z"
   },
   {
    "duration": 123,
    "start_time": "2025-04-09T22:12:28.925Z"
   },
   {
    "duration": 9,
    "start_time": "2025-04-09T22:12:29.052Z"
   },
   {
    "duration": 99,
    "start_time": "2025-04-09T22:12:29.063Z"
   },
   {
    "duration": 158,
    "start_time": "2025-04-09T22:12:29.164Z"
   },
   {
    "duration": 11,
    "start_time": "2025-04-09T22:12:29.327Z"
   },
   {
    "duration": 68,
    "start_time": "2025-04-09T22:12:29.340Z"
   },
   {
    "duration": 113,
    "start_time": "2025-04-09T22:12:29.410Z"
   },
   {
    "duration": 11,
    "start_time": "2025-04-09T22:12:29.525Z"
   },
   {
    "duration": 16,
    "start_time": "2025-04-09T22:12:29.540Z"
   },
   {
    "duration": 28,
    "start_time": "2025-04-09T22:12:29.586Z"
   },
   {
    "duration": 205,
    "start_time": "2025-04-09T22:12:29.620Z"
   },
   {
    "duration": 70,
    "start_time": "2025-04-09T22:12:29.827Z"
   },
   {
    "duration": 19,
    "start_time": "2025-04-09T22:12:29.899Z"
   },
   {
    "duration": 409,
    "start_time": "2025-04-09T22:12:29.920Z"
   },
   {
    "duration": 82,
    "start_time": "2025-04-09T22:12:30.331Z"
   },
   {
    "duration": 22,
    "start_time": "2025-04-09T22:12:30.415Z"
   },
   {
    "duration": 314,
    "start_time": "2025-04-09T22:12:30.483Z"
   },
   {
    "duration": 88,
    "start_time": "2025-04-09T22:12:30.814Z"
   },
   {
    "duration": 14,
    "start_time": "2025-04-09T22:12:30.904Z"
   },
   {
    "duration": 85,
    "start_time": "2025-04-09T22:12:30.920Z"
   },
   {
    "duration": 6,
    "start_time": "2025-04-09T22:12:31.007Z"
   },
   {
    "duration": 33,
    "start_time": "2025-04-09T22:12:31.015Z"
   },
   {
    "duration": 8,
    "start_time": "2025-04-09T22:12:31.049Z"
   },
   {
    "duration": 2,
    "start_time": "2025-04-09T22:12:31.060Z"
   },
   {
    "duration": 249,
    "start_time": "2025-04-09T22:12:31.064Z"
   },
   {
    "duration": 230,
    "start_time": "2025-04-09T22:12:31.315Z"
   },
   {
    "duration": 285,
    "start_time": "2025-04-09T22:12:31.547Z"
   },
   {
    "duration": 16,
    "start_time": "2025-04-09T22:12:31.835Z"
   },
   {
    "duration": 13,
    "start_time": "2025-04-09T22:12:31.853Z"
   },
   {
    "duration": 26,
    "start_time": "2025-04-09T22:12:31.868Z"
   },
   {
    "duration": 2842,
    "start_time": "2025-04-10T21:12:16.805Z"
   },
   {
    "duration": 299,
    "start_time": "2025-04-10T21:12:19.649Z"
   },
   {
    "duration": 63,
    "start_time": "2025-04-10T21:12:19.950Z"
   },
   {
    "duration": 113,
    "start_time": "2025-04-10T21:12:20.016Z"
   },
   {
    "duration": 10,
    "start_time": "2025-04-10T21:12:20.132Z"
   },
   {
    "duration": 73,
    "start_time": "2025-04-10T21:12:20.144Z"
   },
   {
    "duration": 99,
    "start_time": "2025-04-10T21:12:20.219Z"
   },
   {
    "duration": 11,
    "start_time": "2025-04-10T21:12:20.320Z"
   },
   {
    "duration": 79,
    "start_time": "2025-04-10T21:12:20.333Z"
   },
   {
    "duration": 102,
    "start_time": "2025-04-10T21:12:20.415Z"
   },
   {
    "duration": 11,
    "start_time": "2025-04-10T21:12:20.519Z"
   },
   {
    "duration": 21,
    "start_time": "2025-04-10T21:12:20.532Z"
   },
   {
    "duration": 52,
    "start_time": "2025-04-10T21:12:20.555Z"
   },
   {
    "duration": 210,
    "start_time": "2025-04-10T21:12:20.609Z"
   },
   {
    "duration": 93,
    "start_time": "2025-04-10T21:12:20.821Z"
   },
   {
    "duration": 7,
    "start_time": "2025-04-10T21:12:20.918Z"
   },
   {
    "duration": 281,
    "start_time": "2025-04-10T21:12:20.927Z"
   },
   {
    "duration": 93,
    "start_time": "2025-04-10T21:12:21.213Z"
   },
   {
    "duration": 7,
    "start_time": "2025-04-10T21:12:21.308Z"
   },
   {
    "duration": 209,
    "start_time": "2025-04-10T21:12:21.317Z"
   },
   {
    "duration": 24,
    "start_time": "2025-04-10T21:12:21.606Z"
   },
   {
    "duration": 5,
    "start_time": "2025-04-10T21:12:21.632Z"
   },
   {
    "duration": 130,
    "start_time": "2025-04-10T21:12:21.639Z"
   },
   {
    "duration": 4,
    "start_time": "2025-04-10T21:12:21.770Z"
   },
   {
    "duration": 48,
    "start_time": "2025-04-10T21:12:21.776Z"
   },
   {
    "duration": 4,
    "start_time": "2025-04-10T21:12:21.825Z"
   },
   {
    "duration": 4,
    "start_time": "2025-04-10T21:12:21.831Z"
   },
   {
    "duration": 229,
    "start_time": "2025-04-10T21:12:21.839Z"
   },
   {
    "duration": 261,
    "start_time": "2025-04-10T21:12:22.070Z"
   },
   {
    "duration": 194,
    "start_time": "2025-04-10T21:12:22.332Z"
   },
   {
    "duration": 14,
    "start_time": "2025-04-10T21:12:22.529Z"
   },
   {
    "duration": 14,
    "start_time": "2025-04-10T21:12:22.545Z"
   },
   {
    "duration": 14,
    "start_time": "2025-04-10T21:12:22.561Z"
   },
   {
    "duration": 335,
    "start_time": "2025-04-10T21:13:34.394Z"
   },
   {
    "duration": 948,
    "start_time": "2025-04-10T21:14:32.481Z"
   },
   {
    "duration": 216,
    "start_time": "2025-04-10T21:14:33.431Z"
   },
   {
    "duration": 62,
    "start_time": "2025-04-10T21:14:33.649Z"
   },
   {
    "duration": 106,
    "start_time": "2025-04-10T21:14:33.714Z"
   },
   {
    "duration": 9,
    "start_time": "2025-04-10T21:14:33.822Z"
   },
   {
    "duration": 50,
    "start_time": "2025-04-10T21:14:33.832Z"
   },
   {
    "duration": 101,
    "start_time": "2025-04-10T21:14:33.906Z"
   },
   {
    "duration": 10,
    "start_time": "2025-04-10T21:14:34.009Z"
   },
   {
    "duration": 57,
    "start_time": "2025-04-10T21:14:34.020Z"
   },
   {
    "duration": 114,
    "start_time": "2025-04-10T21:14:34.108Z"
   },
   {
    "duration": 10,
    "start_time": "2025-04-10T21:14:34.224Z"
   },
   {
    "duration": 16,
    "start_time": "2025-04-10T21:14:34.235Z"
   },
   {
    "duration": 8,
    "start_time": "2025-04-10T21:14:34.253Z"
   },
   {
    "duration": 247,
    "start_time": "2025-04-10T21:14:34.262Z"
   },
   {
    "duration": 96,
    "start_time": "2025-04-10T21:14:34.511Z"
   },
   {
    "duration": 8,
    "start_time": "2025-04-10T21:14:34.609Z"
   },
   {
    "duration": 204,
    "start_time": "2025-04-10T21:14:34.619Z"
   },
   {
    "duration": 95,
    "start_time": "2025-04-10T21:14:34.824Z"
   },
   {
    "duration": 7,
    "start_time": "2025-04-10T21:14:34.922Z"
   },
   {
    "duration": 277,
    "start_time": "2025-04-10T21:14:34.931Z"
   },
   {
    "duration": 97,
    "start_time": "2025-04-10T21:14:35.210Z"
   },
   {
    "duration": 4,
    "start_time": "2025-04-10T21:14:35.309Z"
   },
   {
    "duration": 92,
    "start_time": "2025-04-10T21:14:35.316Z"
   },
   {
    "duration": 3,
    "start_time": "2025-04-10T21:14:35.410Z"
   },
   {
    "duration": 21,
    "start_time": "2025-04-10T21:14:35.415Z"
   },
   {
    "duration": 4,
    "start_time": "2025-04-10T21:14:35.438Z"
   },
   {
    "duration": 4,
    "start_time": "2025-04-10T21:14:35.443Z"
   },
   {
    "duration": 230,
    "start_time": "2025-04-10T21:14:35.451Z"
   },
   {
    "duration": 201,
    "start_time": "2025-04-10T21:14:35.683Z"
   },
   {
    "duration": 198,
    "start_time": "2025-04-10T21:14:35.886Z"
   },
   {
    "duration": 23,
    "start_time": "2025-04-10T21:14:36.086Z"
   },
   {
    "duration": 13,
    "start_time": "2025-04-10T21:14:36.111Z"
   },
   {
    "duration": 13,
    "start_time": "2025-04-10T21:14:36.125Z"
   },
   {
    "duration": 1013,
    "start_time": "2025-04-10T21:15:26.159Z"
   },
   {
    "duration": 226,
    "start_time": "2025-04-10T21:15:27.174Z"
   },
   {
    "duration": 57,
    "start_time": "2025-04-10T21:15:27.402Z"
   },
   {
    "duration": 123,
    "start_time": "2025-04-10T21:15:27.462Z"
   },
   {
    "duration": 18,
    "start_time": "2025-04-10T21:15:27.587Z"
   },
   {
    "duration": 49,
    "start_time": "2025-04-10T21:15:27.607Z"
   },
   {
    "duration": 112,
    "start_time": "2025-04-10T21:15:27.659Z"
   },
   {
    "duration": 11,
    "start_time": "2025-04-10T21:15:27.773Z"
   },
   {
    "duration": 72,
    "start_time": "2025-04-10T21:15:27.786Z"
   },
   {
    "duration": 114,
    "start_time": "2025-04-10T21:15:27.861Z"
   },
   {
    "duration": 11,
    "start_time": "2025-04-10T21:15:27.977Z"
   },
   {
    "duration": 29,
    "start_time": "2025-04-10T21:15:27.990Z"
   },
   {
    "duration": 13,
    "start_time": "2025-04-10T21:15:28.020Z"
   },
   {
    "duration": 273,
    "start_time": "2025-04-10T21:15:28.034Z"
   },
   {
    "duration": 19,
    "start_time": "2025-04-10T21:15:28.309Z"
   },
   {
    "duration": 80,
    "start_time": "2025-04-10T21:15:28.330Z"
   },
   {
    "duration": 297,
    "start_time": "2025-04-10T21:15:28.413Z"
   },
   {
    "duration": 93,
    "start_time": "2025-04-10T21:15:28.714Z"
   },
   {
    "duration": 7,
    "start_time": "2025-04-10T21:15:28.809Z"
   },
   {
    "duration": 289,
    "start_time": "2025-04-10T21:15:28.818Z"
   },
   {
    "duration": 98,
    "start_time": "2025-04-10T21:15:29.115Z"
   },
   {
    "duration": 5,
    "start_time": "2025-04-10T21:15:29.216Z"
   },
   {
    "duration": 88,
    "start_time": "2025-04-10T21:15:29.223Z"
   },
   {
    "duration": 3,
    "start_time": "2025-04-10T21:15:29.313Z"
   },
   {
    "duration": 23,
    "start_time": "2025-04-10T21:15:29.317Z"
   },
   {
    "duration": 5,
    "start_time": "2025-04-10T21:15:29.341Z"
   },
   {
    "duration": 3,
    "start_time": "2025-04-10T21:15:29.347Z"
   },
   {
    "duration": 243,
    "start_time": "2025-04-10T21:15:29.355Z"
   },
   {
    "duration": 197,
    "start_time": "2025-04-10T21:15:29.605Z"
   },
   {
    "duration": 210,
    "start_time": "2025-04-10T21:15:29.804Z"
   },
   {
    "duration": 14,
    "start_time": "2025-04-10T21:15:30.016Z"
   },
   {
    "duration": 14,
    "start_time": "2025-04-10T21:15:30.031Z"
   },
   {
    "duration": 13,
    "start_time": "2025-04-10T21:15:30.046Z"
   },
   {
    "duration": 24,
    "start_time": "2025-04-10T21:17:54.372Z"
   },
   {
    "duration": 6,
    "start_time": "2025-04-10T21:18:16.517Z"
   },
   {
    "duration": 146,
    "start_time": "2025-04-10T21:29:20.655Z"
   },
   {
    "duration": 946,
    "start_time": "2025-04-10T21:29:32.490Z"
   },
   {
    "duration": 222,
    "start_time": "2025-04-10T21:29:33.438Z"
   },
   {
    "duration": 65,
    "start_time": "2025-04-10T21:29:33.662Z"
   },
   {
    "duration": 109,
    "start_time": "2025-04-10T21:29:33.729Z"
   },
   {
    "duration": 10,
    "start_time": "2025-04-10T21:29:33.841Z"
   },
   {
    "duration": 73,
    "start_time": "2025-04-10T21:29:33.852Z"
   },
   {
    "duration": 113,
    "start_time": "2025-04-10T21:29:33.926Z"
   },
   {
    "duration": 10,
    "start_time": "2025-04-10T21:29:34.041Z"
   },
   {
    "duration": 76,
    "start_time": "2025-04-10T21:29:34.052Z"
   },
   {
    "duration": 126,
    "start_time": "2025-04-10T21:29:34.131Z"
   },
   {
    "duration": 9,
    "start_time": "2025-04-10T21:29:34.259Z"
   },
   {
    "duration": 15,
    "start_time": "2025-04-10T21:29:34.270Z"
   },
   {
    "duration": 30,
    "start_time": "2025-04-10T21:29:34.287Z"
   },
   {
    "duration": 292,
    "start_time": "2025-04-10T21:29:34.324Z"
   },
   {
    "duration": 96,
    "start_time": "2025-04-10T21:29:34.622Z"
   },
   {
    "duration": 7,
    "start_time": "2025-04-10T21:29:34.720Z"
   },
   {
    "duration": 198,
    "start_time": "2025-04-10T21:29:34.729Z"
   },
   {
    "duration": 21,
    "start_time": "2025-04-10T21:29:35.005Z"
   },
   {
    "duration": 77,
    "start_time": "2025-04-10T21:29:35.028Z"
   },
   {
    "duration": 206,
    "start_time": "2025-04-10T21:29:35.107Z"
   },
   {
    "duration": 102,
    "start_time": "2025-04-10T21:29:35.315Z"
   },
   {
    "duration": 5,
    "start_time": "2025-04-10T21:29:35.419Z"
   },
   {
    "duration": 99,
    "start_time": "2025-04-10T21:29:35.425Z"
   },
   {
    "duration": 4,
    "start_time": "2025-04-10T21:29:35.525Z"
   },
   {
    "duration": 367,
    "start_time": "2025-04-10T21:29:35.531Z"
   },
   {
    "duration": 0,
    "start_time": "2025-04-10T21:29:35.899Z"
   },
   {
    "duration": 0,
    "start_time": "2025-04-10T21:29:35.905Z"
   },
   {
    "duration": 0,
    "start_time": "2025-04-10T21:29:35.906Z"
   },
   {
    "duration": 0,
    "start_time": "2025-04-10T21:29:35.907Z"
   },
   {
    "duration": 0,
    "start_time": "2025-04-10T21:29:35.908Z"
   },
   {
    "duration": 0,
    "start_time": "2025-04-10T21:29:35.910Z"
   },
   {
    "duration": 0,
    "start_time": "2025-04-10T21:29:35.911Z"
   },
   {
    "duration": 0,
    "start_time": "2025-04-10T21:29:35.913Z"
   },
   {
    "duration": 0,
    "start_time": "2025-04-10T21:29:35.914Z"
   },
   {
    "duration": 26,
    "start_time": "2025-04-10T21:31:52.189Z"
   },
   {
    "duration": 8,
    "start_time": "2025-04-10T21:32:12.207Z"
   },
   {
    "duration": 3,
    "start_time": "2025-04-10T21:34:10.732Z"
   },
   {
    "duration": 10,
    "start_time": "2025-04-10T21:34:11.325Z"
   },
   {
    "duration": 1039,
    "start_time": "2025-04-10T21:34:24.297Z"
   },
   {
    "duration": 225,
    "start_time": "2025-04-10T21:34:25.339Z"
   },
   {
    "duration": 66,
    "start_time": "2025-04-10T21:34:25.566Z"
   },
   {
    "duration": 110,
    "start_time": "2025-04-10T21:34:25.634Z"
   },
   {
    "duration": 10,
    "start_time": "2025-04-10T21:34:25.746Z"
   },
   {
    "duration": 69,
    "start_time": "2025-04-10T21:34:25.757Z"
   },
   {
    "duration": 103,
    "start_time": "2025-04-10T21:34:25.828Z"
   },
   {
    "duration": 10,
    "start_time": "2025-04-10T21:34:25.933Z"
   },
   {
    "duration": 79,
    "start_time": "2025-04-10T21:34:25.945Z"
   },
   {
    "duration": 102,
    "start_time": "2025-04-10T21:34:26.028Z"
   },
   {
    "duration": 10,
    "start_time": "2025-04-10T21:34:26.132Z"
   },
   {
    "duration": 16,
    "start_time": "2025-04-10T21:34:26.144Z"
   },
   {
    "duration": 8,
    "start_time": "2025-04-10T21:34:26.161Z"
   },
   {
    "duration": 242,
    "start_time": "2025-04-10T21:34:26.170Z"
   },
   {
    "duration": 92,
    "start_time": "2025-04-10T21:34:26.414Z"
   },
   {
    "duration": 8,
    "start_time": "2025-04-10T21:34:26.508Z"
   },
   {
    "duration": 211,
    "start_time": "2025-04-10T21:34:26.518Z"
   },
   {
    "duration": 103,
    "start_time": "2025-04-10T21:34:26.730Z"
   },
   {
    "duration": 71,
    "start_time": "2025-04-10T21:34:26.834Z"
   },
   {
    "duration": 213,
    "start_time": "2025-04-10T21:34:26.907Z"
   },
   {
    "duration": 99,
    "start_time": "2025-04-10T21:34:27.122Z"
   },
   {
    "duration": 5,
    "start_time": "2025-04-10T21:34:27.223Z"
   },
   {
    "duration": 124,
    "start_time": "2025-04-10T21:34:27.229Z"
   },
   {
    "duration": 4,
    "start_time": "2025-04-10T21:34:27.354Z"
   },
   {
    "duration": 252,
    "start_time": "2025-04-10T21:34:27.360Z"
   },
   {
    "duration": 0,
    "start_time": "2025-04-10T21:34:27.614Z"
   },
   {
    "duration": 0,
    "start_time": "2025-04-10T21:34:27.615Z"
   },
   {
    "duration": 0,
    "start_time": "2025-04-10T21:34:27.617Z"
   },
   {
    "duration": 0,
    "start_time": "2025-04-10T21:34:27.617Z"
   },
   {
    "duration": 0,
    "start_time": "2025-04-10T21:34:27.619Z"
   },
   {
    "duration": 0,
    "start_time": "2025-04-10T21:34:27.619Z"
   },
   {
    "duration": 0,
    "start_time": "2025-04-10T21:34:27.621Z"
   },
   {
    "duration": 0,
    "start_time": "2025-04-10T21:34:27.622Z"
   },
   {
    "duration": 0,
    "start_time": "2025-04-10T21:34:27.623Z"
   },
   {
    "duration": 12,
    "start_time": "2025-04-10T21:35:59.012Z"
   },
   {
    "duration": 12,
    "start_time": "2025-04-10T21:37:18.798Z"
   },
   {
    "duration": 12,
    "start_time": "2025-04-10T21:37:45.878Z"
   },
   {
    "duration": 1050,
    "start_time": "2025-04-10T21:43:23.461Z"
   },
   {
    "duration": 219,
    "start_time": "2025-04-10T21:43:24.515Z"
   },
   {
    "duration": 71,
    "start_time": "2025-04-10T21:43:24.736Z"
   },
   {
    "duration": 111,
    "start_time": "2025-04-10T21:43:24.809Z"
   },
   {
    "duration": 10,
    "start_time": "2025-04-10T21:43:24.921Z"
   },
   {
    "duration": 76,
    "start_time": "2025-04-10T21:43:24.932Z"
   },
   {
    "duration": 102,
    "start_time": "2025-04-10T21:43:25.010Z"
   },
   {
    "duration": 10,
    "start_time": "2025-04-10T21:43:25.114Z"
   },
   {
    "duration": 85,
    "start_time": "2025-04-10T21:43:25.125Z"
   },
   {
    "duration": 99,
    "start_time": "2025-04-10T21:43:25.214Z"
   },
   {
    "duration": 11,
    "start_time": "2025-04-10T21:43:25.315Z"
   },
   {
    "duration": 18,
    "start_time": "2025-04-10T21:43:25.328Z"
   },
   {
    "duration": 58,
    "start_time": "2025-04-10T21:43:25.347Z"
   },
   {
    "duration": 211,
    "start_time": "2025-04-10T21:43:25.408Z"
   },
   {
    "duration": 99,
    "start_time": "2025-04-10T21:43:25.621Z"
   },
   {
    "duration": 8,
    "start_time": "2025-04-10T21:43:25.722Z"
   },
   {
    "duration": 280,
    "start_time": "2025-04-10T21:43:25.732Z"
   },
   {
    "duration": 92,
    "start_time": "2025-04-10T21:43:26.014Z"
   },
   {
    "duration": 9,
    "start_time": "2025-04-10T21:43:26.107Z"
   },
   {
    "duration": 289,
    "start_time": "2025-04-10T21:43:26.117Z"
   },
   {
    "duration": 97,
    "start_time": "2025-04-10T21:43:26.408Z"
   },
   {
    "duration": 5,
    "start_time": "2025-04-10T21:43:26.507Z"
   },
   {
    "duration": 64,
    "start_time": "2025-04-10T21:43:26.515Z"
   },
   {
    "duration": 4,
    "start_time": "2025-04-10T21:43:26.580Z"
   },
   {
    "duration": 13,
    "start_time": "2025-04-10T21:43:26.606Z"
   },
   {
    "duration": 253,
    "start_time": "2025-04-10T21:43:26.621Z"
   },
   {
    "duration": 0,
    "start_time": "2025-04-10T21:43:26.876Z"
   },
   {
    "duration": 0,
    "start_time": "2025-04-10T21:43:26.877Z"
   },
   {
    "duration": 0,
    "start_time": "2025-04-10T21:43:26.878Z"
   },
   {
    "duration": 0,
    "start_time": "2025-04-10T21:43:26.879Z"
   },
   {
    "duration": 0,
    "start_time": "2025-04-10T21:43:26.881Z"
   },
   {
    "duration": 491,
    "start_time": "2025-04-10T21:57:44.261Z"
   },
   {
    "duration": 18,
    "start_time": "2025-04-10T21:58:49.318Z"
   },
   {
    "duration": 469,
    "start_time": "2025-04-10T21:59:17.411Z"
   },
   {
    "duration": 463,
    "start_time": "2025-04-10T22:03:03.415Z"
   },
   {
    "duration": 563,
    "start_time": "2025-04-10T22:03:58.837Z"
   },
   {
    "duration": 467,
    "start_time": "2025-04-10T22:03:59.758Z"
   },
   {
    "duration": 3,
    "start_time": "2025-04-10T22:09:32.399Z"
   },
   {
    "duration": 3,
    "start_time": "2025-04-10T22:10:19.247Z"
   },
   {
    "duration": 4,
    "start_time": "2025-04-10T22:10:54.294Z"
   },
   {
    "duration": 3,
    "start_time": "2025-04-10T22:10:58.270Z"
   },
   {
    "duration": 13,
    "start_time": "2025-04-10T22:15:19.596Z"
   },
   {
    "duration": 4,
    "start_time": "2025-04-10T22:18:01.157Z"
   }
  ],
  "kernelspec": {
   "display_name": "Python 3 (ipykernel)",
   "language": "python",
   "name": "python3"
  },
  "language_info": {
   "codemirror_mode": {
    "name": "ipython",
    "version": 3
   },
   "file_extension": ".py",
   "mimetype": "text/x-python",
   "name": "python",
   "nbconvert_exporter": "python",
   "pygments_lexer": "ipython3",
   "version": "3.9.19"
  },
  "toc": {
   "base_numbering": 1,
   "nav_menu": {
    "height": "332px",
    "width": "370px"
   },
   "number_sections": true,
   "sideBar": true,
   "skip_h1_title": true,
   "title_cell": "Table of Contents",
   "title_sidebar": "Contents",
   "toc_cell": false,
   "toc_position": {},
   "toc_section_display": true,
   "toc_window_display": false
  }
 },
 "nbformat": 4,
 "nbformat_minor": 2
}
